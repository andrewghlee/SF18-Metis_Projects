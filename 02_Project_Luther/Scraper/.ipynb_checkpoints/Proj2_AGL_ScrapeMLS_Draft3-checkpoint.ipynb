{
 "cells": [
  {
   "cell_type": "markdown",
   "metadata": {},
   "source": [
    "## Python Modules and Status Code\n",
    "The section below imports python modules for web scraping and tests MLSlistings.com url."
   ]
  },
  {
   "cell_type": "code",
   "execution_count": 71,
   "metadata": {},
   "outputs": [
    {
     "name": "stdout",
     "output_type": "stream",
     "text": [
      "Check status code for MLS Listings - San Francisco (for sale):  200\n",
      "Check status code for MLS Listings - Alameda County (for sale):  200\n",
      "Check status code for MLS Listings - Santa Clara County (for sale):  200\n",
      "Check status code for MLS Listings - San Mateo County (for sale):  200\n"
     ]
    }
   ],
   "source": [
    "from __future__ import print_function, division\n",
    "import requests\n",
    "import pandas as pd\n",
    "from bs4 import BeautifulSoup\n",
    "from selenium import webdriver\n",
    "from selenium.webdriver.common.keys import Keys\n",
    "import time\n",
    "import os\n",
    "\n",
    "url = 'https://www.mlslistings.com/Search/Result/38cecff3-9516-461a-bc33-ed9051213672/1?view=list'\n",
    "response = requests.get(url)\n",
    "print(\"Check status code for MLS Listings - San Francisco (for sale): \",response.status_code)\n",
    "url = 'https://www.mlslistings.com/Search/Result/d9a08bec-dff2-43ba-9cd3-d22a6c8ed1fd/1?view=list'\n",
    "response = requests.get(url)\n",
    "print(\"Check status code for MLS Listings - Alameda County (for sale): \",response.status_code)\n",
    "url = 'https://www.mlslistings.com/Search/Result/7bc8b618-f562-42fd-a5d0-fe4f84d8c830/1?view=list'\n",
    "response = requests.get(url)\n",
    "print(\"Check status code for MLS Listings - Santa Clara County (for sale): \",response.status_code)\n",
    "url = 'https://www.mlslistings.com/Search/Result/f649e2fe-6351-47f3-ab3c-216a3a7a441a/1?view=list'\n",
    "response = requests.get(url)\n",
    "print(\"Check status code for MLS Listings - San Mateo County (for sale): \",response.status_code)"
   ]
  },
  {
   "cell_type": "markdown",
   "metadata": {},
   "source": [
    "## San Francisco *- for sale*\n",
    "The section below scrapes houses in San Francisco currently listed for sale."
   ]
  },
  {
   "cell_type": "code",
   "execution_count": 72,
   "metadata": {},
   "outputs": [],
   "source": [
    "# Create a function to collect all the url to scrape - San Francisco (For Sale)\n",
    "def mlssale_sf_urls(pagenum): \n",
    "    for i in range(1, pagenum+1):\n",
    "        try:\n",
    "            url = 'https://www.mlslistings.com/Search/Result/38cecff3-9516-461a-bc33-ed9051213672/{0}?view=list'.format(i)\n",
    "            response = requests.get(url)\n",
    "            page = response.text\n",
    "            soup = BeautifulSoup(page,\"lxml\")\n",
    "        except:\n",
    "            break\n",
    "\n",
    "        for j in range(1,101,2):\n",
    "            try:\n",
    "                sf_urls.append('https://www.mlslistings.com/'+soup.find_all(class_='search-nav-link')[j]['href'])\n",
    "            except:\n",
    "                break"
   ]
  },
  {
   "cell_type": "code",
   "execution_count": 73,
   "metadata": {},
   "outputs": [
    {
     "name": "stdout",
     "output_type": "stream",
     "text": [
      "-137.64330506324768 seconds\n",
      "Number of urls collected:  86\n"
     ]
    }
   ],
   "source": [
    "# Run the url collector function\n",
    "import time\n",
    "start = time.time()\n",
    "sf_urls = []\n",
    "mlssale_sf_urls(200)\n",
    "end = time.time()\n",
    "print(start-end,'seconds')\n",
    "print('Number of urls collected: ',len(sf_urls))\n",
    "# sf_urls"
   ]
  },
  {
   "cell_type": "code",
   "execution_count": 74,
   "metadata": {},
   "outputs": [],
   "source": [
    "# Create a function to scrape data - currently listed for sale \n",
    "def mlssale_sf():\n",
    "    for link in sf_urls:\n",
    "        try:\n",
    "            url = link\n",
    "            response = requests.get(url)\n",
    "            page = response.text\n",
    "            soup = BeautifulSoup(page,\"lxml\")\n",
    "        except:\n",
    "            break\n",
    "        # Address\n",
    "        titles.append(soup.find_all(class_='font-weight-bold h font-size-xl line-height-lg')[0].text.strip())\n",
    "        # Price\n",
    "        listing_price = soup.find_all('h4')[0].text.split(' ')[0].strip()\n",
    "        try:\n",
    "            listing_price = \"{0:.2f}\".format(round(float(listing_price.replace('$','').replace(',','')),2))\n",
    "        except:\n",
    "            listing_price = \"{0:.2f}\".format(float(0))\n",
    "        prices.append(listing_price)\n",
    "        # Property Type\n",
    "        prptyp.append(soup.find_all(class_='font-size-base sm-sticky')[0].text.strip())\n",
    "        # Number of Bedrooms\n",
    "        bednum.append(soup.find('thead').find_all(class_='text-xs-center')[0].text.strip())\n",
    "        # Number of Bathrooms\n",
    "        batnum.append(soup.find('thead').find_all(class_='text-xs-center')[1].text.strip())\n",
    "        # Property Square Footage\n",
    "        sqfoot.append(soup.find('thead').find_all(class_='text-xs-center')[2].text.strip())\n",
    "        # Lot Size Square Footage\n",
    "        lotsiz.append(soup.find('thead').find_all(class_='text-xs-center')[3].text.strip())\n",
    "        # Built Year\n",
    "        buildt.append(soup.find('thead').find_all(class_='text-xs-center')[4].text.strip())\n",
    "        # Days on Site\n",
    "        status.append(soup.find_all(class_='card-text font-size-midr line-height-xl')[2].text.strip())\n",
    "        # MLS Number\n",
    "        mlsnum.append(soup.find_all(class_='card-text font-size-midr line-height-xl')[0].text.strip())\n",
    "#         # Bathroom Details\n",
    "#         detbat.append(soup.find_all(class_='card-text font-size-midr line-height-xl')[4].text.strip())\n",
    "        # Kitchen Details\n",
    "        detkit.append(soup.find_all(class_='card-text font-size-midr line-height-xl')[5].text.strip())\n",
    "#         # Dining Room Details\n",
    "#         detdin.append(soup.find_all(class_='card-text font-size-midr line-height-xl')[6].text.strip())\n",
    "        # Fireplace Details\n",
    "        detfir.append(soup.find_all(class_='card-text font-size-midr line-height-xl')[8].text.strip())\n",
    "#         # Flooring Details\n",
    "#         detflr.append(soup.find_all(class_='card-text font-size-midr line-height-xl')[9].text.strip())\n",
    "        # Laundry Details\n",
    "        detldr.append(soup.find_all(class_='card-text font-size-midr line-height-xl')[10].text.strip())\n",
    "        # Cooling Details\n",
    "        detcoo.append(soup.find_all(class_='card-text font-size-midr line-height-xl')[11].text.strip())\n",
    "        # Heating Details\n",
    "        dethea.append(soup.find_all(class_='card-text font-size-midr line-height-xl')[12].text.strip())\n",
    "        # Roof Details\n",
    "        detroo.append(soup.find_all(class_='card-text font-size-midr line-height-xl')[13].text.strip())\n",
    "        # Pool Details\n",
    "        detpoo.append(soup.find_all(class_='card-text font-size-midr line-height-xl')[15].text.strip())\n",
    "        # Style Details\n",
    "        detsty.append(soup.find_all(class_='card-text font-size-midr line-height-xl')[16].text.strip())\n",
    "        # Garage Details\n",
    "        detgar.append(soup.find_all(class_='card-text font-size-midr line-height-xl')[18].text.strip())\n",
    "        # Elementary District Details\n",
    "        detesd.append(soup.find_all(class_='card-text font-size-midr line-height-xl')[19].text.strip())\n",
    "        # High School District Details\n",
    "        dethsd.append(soup.find_all(class_='card-text font-size-midr line-height-xl')[20].text.strip())\n",
    "        # Sewer Details\n",
    "        detsew.append(soup.find_all(class_='card-text font-size-midr line-height-xl')[22].text.strip())\n",
    "        # Water Details\n",
    "        detwat.append(soup.find_all(class_='card-text font-size-midr line-height-xl')[23].text.strip())\n",
    "        # HOA Fee Details\n",
    "        dethoa.append(soup.find_all(class_='card-text font-size-midr line-height-xl')[24].text.strip())\n",
    "        # Complex Amenities Details\n",
    "        detcpx.append(soup.find_all(class_='card-text font-size-midr line-height-xl')[25].text.strip())\n",
    "        # Listing Agency\n",
    "        broker.append(soup.find_all(class_='mb-2')[0].find_all('p')[2].text.strip())"
   ]
  },
  {
   "cell_type": "code",
   "execution_count": 75,
   "metadata": {},
   "outputs": [
    {
     "name": "stdout",
     "output_type": "stream",
     "text": [
      "-89.27772641181946 seconds\n"
     ]
    }
   ],
   "source": [
    "# Create empty arrays for scraping\n",
    "import time\n",
    "start = time.time()\n",
    "titles = []\n",
    "prices = []\n",
    "prptyp = []\n",
    "bednum = []\n",
    "batnum = []\n",
    "sqfoot = []\n",
    "lotsiz = []\n",
    "buildt = []\n",
    "status = []\n",
    "mlsnum = []\n",
    "detkit = []\n",
    "detfir = []\n",
    "detldr = []\n",
    "detcoo = []\n",
    "dethea = []\n",
    "detroo = []\n",
    "detpoo = []\n",
    "detsty = []\n",
    "detgar = []\n",
    "detesd = []\n",
    "dethsd = []\n",
    "detsew = []\n",
    "detwat = []\n",
    "dethoa = []\n",
    "detcpx = []\n",
    "broker = []\n",
    "# Run the scraper for San Francisco (For Sale)\n",
    "mlssale_sf()\n",
    "end = time.time()\n",
    "# Check scrape run time\n",
    "print(start-end,\"seconds\")"
   ]
  },
  {
   "cell_type": "code",
   "execution_count": 76,
   "metadata": {},
   "outputs": [
    {
     "name": "stdout",
     "output_type": "stream",
     "text": [
      "Number of Values Scraped: 86 86 86 86 86 86 86 86 86 86 86 86 86 86 86 86 86 86 86 86 86 86 86 86 86 86\n"
     ]
    }
   ],
   "source": [
    "# Check the array size\n",
    "print('Number of Values Scraped:',len(titles),len(prices),len(prptyp),len(bednum),len(batnum),len(sqfoot),len(lotsiz),len(buildt),len(status),len(mlsnum),len(detkit),len(detfir),len(detldr),len(detcoo),len(dethea),len(detroo),len(detpoo),len(detsty),len(detgar),len(detesd),len(dethsd),len(detsew),len(detwat),len(dethoa),len(detcpx),len(broker))\n",
    "# Create a DataFrame for the scraped data\n",
    "mlssale_sf_df = pd.DataFrame({'Address': titles, 'Prices': prices, 'Property_Type': prptyp, 'Bedrooms': bednum, 'Bathrooms': batnum, 'Sq_Ft': sqfoot, 'Lot_Size': lotsiz, 'Built': buildt, 'Status': status, 'MLS_Number': mlsnum, 'Kitchen': detkit, 'Fireplace': detfir, 'Laundry': detldr , 'Cooling': detcoo, 'Heating': dethea, 'Roof': detroo, 'Pool': detpoo, 'Style': detsty, 'Garage': detgar, 'ES_District': detesd, 'HS_District': dethsd, 'Sewer': detsew, 'Water': detwat, 'HOA': dethoa, 'Complex_Amenities': detcpx, 'Broker': broker})"
   ]
  },
  {
   "cell_type": "code",
   "execution_count": 12,
   "metadata": {},
   "outputs": [],
   "source": [
    "# Sample test to ensure that the data was compiled correctly"
   ]
  },
  {
   "cell_type": "code",
   "execution_count": 77,
   "metadata": {},
   "outputs": [],
   "source": [
    "# Save the dataframe MLS San Francisco (Sold)\n",
    "mlssale_sf_df.to_pickle('data/mlssale_sf_20181008.pkl')"
   ]
  },
  {
   "cell_type": "markdown",
   "metadata": {},
   "source": [
    "## Alameda County *- for sale*\n",
    "The section below scrapes houses in Alameda County currently listed for sale."
   ]
  },
  {
   "cell_type": "code",
   "execution_count": 2,
   "metadata": {},
   "outputs": [],
   "source": [
    "# Create a function to collect all the url to scrape - Alameda County (For Sale)\n",
    "def mlssale_east_urls(pagenum): \n",
    "    for i in range(1, pagenum+1):\n",
    "        try:\n",
    "            url = 'https://www.mlslistings.com/Search/Result/d9a08bec-dff2-43ba-9cd3-d22a6c8ed1fd/{0}?view=list'.format(i)\n",
    "            response = requests.get(url)\n",
    "            page = response.text\n",
    "            soup = BeautifulSoup(page,\"lxml\")\n",
    "        except:\n",
    "            break\n",
    "\n",
    "        for j in range(1,101,2):\n",
    "            try:\n",
    "                east_urls.append('https://www.mlslistings.com/'+soup.find_all(class_='search-nav-link')[j]['href'])\n",
    "            except:\n",
    "                break"
   ]
  },
  {
   "cell_type": "code",
   "execution_count": 3,
   "metadata": {},
   "outputs": [
    {
     "name": "stdout",
     "output_type": "stream",
     "text": [
      "-435.28768396377563 seconds\n",
      "Number of urls collected:  3288\n"
     ]
    }
   ],
   "source": [
    "# Run the url collector function\n",
    "import time\n",
    "start = time.time()\n",
    "east_urls = []\n",
    "mlssale_east_urls(200)\n",
    "end = time.time()\n",
    "print(start-end,'seconds')\n",
    "print('Number of urls collected: ',len(east_urls))\n",
    "# east_urls"
   ]
  },
  {
   "cell_type": "code",
   "execution_count": 4,
   "metadata": {},
   "outputs": [],
   "source": [
    "# Create a function to scrape data - currently listed for sale \n",
    "def mlssale_east():\n",
    "    for link in east_urls:\n",
    "        try:\n",
    "            url = link\n",
    "            response = requests.get(url)\n",
    "            page = response.text\n",
    "            soup = BeautifulSoup(page,\"lxml\")\n",
    "        except:\n",
    "            break\n",
    "        # Address\n",
    "        titles.append(soup.find_all(class_='font-weight-bold h font-size-xl line-height-lg')[0].text.strip())\n",
    "        # Price\n",
    "        listing_price = soup.find_all('h4')[0].text.split(' ')[0].strip()\n",
    "        try:\n",
    "            listing_price = \"{0:.2f}\".format(round(float(listing_price.replace('$','').replace(',','')),2))\n",
    "        except:\n",
    "            listing_price = \"{0:.2f}\".format(float(0))\n",
    "        prices.append(listing_price)\n",
    "        # Property Type\n",
    "        prptyp.append(soup.find_all(class_='font-size-base sm-sticky')[0].text.strip())\n",
    "        # Number of Bedrooms\n",
    "        bednum.append(soup.find('thead').find_all(class_='text-xs-center')[0].text.strip())\n",
    "        # Number of Bathrooms\n",
    "        batnum.append(soup.find('thead').find_all(class_='text-xs-center')[1].text.strip())\n",
    "        # Property Square Footage\n",
    "        sqfoot.append(soup.find('thead').find_all(class_='text-xs-center')[2].text.strip())\n",
    "        # Lot Size Square Footage\n",
    "        lotsiz.append(soup.find('thead').find_all(class_='text-xs-center')[3].text.strip())\n",
    "        # Built Year\n",
    "        buildt.append(soup.find('thead').find_all(class_='text-xs-center')[4].text.strip())\n",
    "        # Days on Site\n",
    "        status.append(soup.find_all(class_='card-text font-size-midr line-height-xl')[2].text.strip())\n",
    "        # MLS Number\n",
    "        mlsnum.append(soup.find_all(class_='card-text font-size-midr line-height-xl')[0].text.strip())\n",
    "#         # Bathroom Details\n",
    "#         detbat.append(soup.find_all(class_='card-text font-size-midr line-height-xl')[4].text.strip())\n",
    "        # Kitchen Details\n",
    "        detkit.append(soup.find_all(class_='card-text font-size-midr line-height-xl')[5].text.strip())\n",
    "#         # Dining Room Details\n",
    "#         detdin.append(soup.find_all(class_='card-text font-size-midr line-height-xl')[6].text.strip())\n",
    "        # Fireplace Details\n",
    "        detfir.append(soup.find_all(class_='card-text font-size-midr line-height-xl')[8].text.strip())\n",
    "#         # Flooring Details\n",
    "#         detflr.append(soup.find_all(class_='card-text font-size-midr line-height-xl')[9].text.strip())\n",
    "        # Laundry Details\n",
    "        detldr.append(soup.find_all(class_='card-text font-size-midr line-height-xl')[10].text.strip())\n",
    "        # Cooling Details\n",
    "        detcoo.append(soup.find_all(class_='card-text font-size-midr line-height-xl')[11].text.strip())\n",
    "        # Heating Details\n",
    "        dethea.append(soup.find_all(class_='card-text font-size-midr line-height-xl')[12].text.strip())\n",
    "        # Roof Details\n",
    "        detroo.append(soup.find_all(class_='card-text font-size-midr line-height-xl')[13].text.strip())\n",
    "        # Pool Details\n",
    "        detpoo.append(soup.find_all(class_='card-text font-size-midr line-height-xl')[15].text.strip())\n",
    "        # Style Details\n",
    "        detsty.append(soup.find_all(class_='card-text font-size-midr line-height-xl')[16].text.strip())\n",
    "        # Garage Details\n",
    "        detgar.append(soup.find_all(class_='card-text font-size-midr line-height-xl')[18].text.strip())\n",
    "        # Elementary District Details\n",
    "        detesd.append(soup.find_all(class_='card-text font-size-midr line-height-xl')[19].text.strip())\n",
    "        # High School District Details\n",
    "        dethsd.append(soup.find_all(class_='card-text font-size-midr line-height-xl')[20].text.strip())\n",
    "        # Sewer Details\n",
    "        detsew.append(soup.find_all(class_='card-text font-size-midr line-height-xl')[22].text.strip())\n",
    "        # Water Details\n",
    "        detwat.append(soup.find_all(class_='card-text font-size-midr line-height-xl')[23].text.strip())\n",
    "        # HOA Fee Details\n",
    "        dethoa.append(soup.find_all(class_='card-text font-size-midr line-height-xl')[24].text.strip())\n",
    "        # Complex Amenities Details\n",
    "        detcpx.append(soup.find_all(class_='card-text font-size-midr line-height-xl')[25].text.strip())\n",
    "        # Listing Agency\n",
    "        broker.append(soup.find_all(class_='mb-2')[0].find_all('p')[2].text.strip())"
   ]
  },
  {
   "cell_type": "code",
   "execution_count": 5,
   "metadata": {},
   "outputs": [],
   "source": [
    "# Create empty arrays for scraping\n",
    "import time\n",
    "start = time.time()\n",
    "titles = []\n",
    "prices = []\n",
    "prptyp = []\n",
    "bednum = []\n",
    "batnum = []\n",
    "sqfoot = []\n",
    "lotsiz = []\n",
    "buildt = []\n",
    "status = []\n",
    "mlsnum = []\n",
    "detkit = []\n",
    "detfir = []\n",
    "detldr = []\n",
    "detcoo = []\n",
    "dethea = []\n",
    "detroo = []\n",
    "detpoo = []\n",
    "detsty = []\n",
    "detgar = []\n",
    "detesd = []\n",
    "dethsd = []\n",
    "detsew = []\n",
    "detwat = []\n",
    "dethoa = []\n",
    "detcpx = []\n",
    "broker = []\n",
    "# Run the scraper for Alameda County (For Sale)\n",
    "mlssale_east()\n",
    "end = time.time()\n",
    "# Check scrape run time\n",
    "print(start-end,\"seconds\")"
   ]
  },
  {
   "cell_type": "code",
   "execution_count": 7,
   "metadata": {},
   "outputs": [
    {
     "name": "stdout",
     "output_type": "stream",
     "text": [
      "-3281.1270990371704 seconds\n"
     ]
    }
   ],
   "source": [
    "# Check scrape run time\n",
    "print(start-end,\"seconds\")"
   ]
  },
  {
   "cell_type": "code",
   "execution_count": 11,
   "metadata": {},
   "outputs": [
    {
     "name": "stdout",
     "output_type": "stream",
     "text": [
      "Number of Values Scraped: 3288 3288 3288 3288 3288 3288 3288 3288 3288 3288 3288 3288 3288 3288 3288 3288 3288 3288 3288 3288 3288 3288 3288 3288 3288 3288\n"
     ]
    }
   ],
   "source": [
    "# Check the array size\n",
    "print('Number of Values Scraped:',len(titles),len(prices),len(prptyp),len(bednum),len(batnum),len(sqfoot),len(lotsiz),len(buildt),len(status),len(mlsnum),len(detkit),len(detfir),len(detldr),len(detcoo),len(dethea),len(detroo),len(detpoo),len(detsty),len(detgar),len(detesd),len(dethsd),len(detsew),len(detwat),len(dethoa),len(detcpx),len(broker))\n",
    "# Create a DataFrame for the scraped data\n",
    "mlssale_east_df = pd.DataFrame({'Address': titles, 'Prices': prices, 'Property_Type': prptyp, 'Bedrooms': bednum, 'Bathrooms': batnum, 'Sq_Ft': sqfoot, 'Lot_Size': lotsiz, 'Built': buildt, 'Status': status, 'MLS_Number': mlsnum, 'Kitchen': detkit, 'Fireplace': detfir, 'Laundry': detldr , 'Cooling': detcoo, 'Heating': dethea, 'Roof': detroo, 'Pool': detpoo, 'Style': detsty, 'Garage': detgar, 'ES_District': detesd, 'HS_District': dethsd, 'Sewer': detsew, 'Water': detwat, 'HOA': dethoa, 'Complex_Amenities': detcpx, 'Broker': broker})"
   ]
  },
  {
   "cell_type": "code",
   "execution_count": 12,
   "metadata": {},
   "outputs": [],
   "source": [
    "# Sample test to ensure that the data was compiled correctly\n",
    "# mlssale_east_df.sample(10)\n",
    "# mlssale_east_df.head(100)\n",
    "# mlssale_east_df.tail(62)\n",
    "# pd.set_option('display.max_colwidth', -1)\n",
    "# mlssale_east_df[['Address','Property_Type','Built','Laundry']][mlssale_east_df.Laundry=='–']"
   ]
  },
  {
   "cell_type": "code",
   "execution_count": 10,
   "metadata": {},
   "outputs": [],
   "source": [
    "# Save the dataframe MLS East Bay (For Sale)\n",
    "mlssale_east_df.to_pickle('data/mlssale_east_20181008.pkl')"
   ]
  },
  {
   "cell_type": "markdown",
   "metadata": {},
   "source": [
    "## Santa Clara County *- for sale*\n",
    "The section below scrapes houses in Santa Clara County currently listed for sale."
   ]
  },
  {
   "cell_type": "code",
   "execution_count": 17,
   "metadata": {},
   "outputs": [],
   "source": [
    "# Create a function to collect all the url to scrape - Santa Clara County (For Sale)\n",
    "def mlssale_south_urls(pagenum): \n",
    "    for i in range(1, pagenum+1):\n",
    "        try:\n",
    "            url = 'https://www.mlslistings.com/Search/Result/7bc8b618-f562-42fd-a5d0-fe4f84d8c830/{0}?view=list'.format(i)\n",
    "            response = requests.get(url)\n",
    "            page = response.text\n",
    "            soup = BeautifulSoup(page,\"lxml\")\n",
    "        except:\n",
    "            break\n",
    "\n",
    "        for j in range(1,101,2):\n",
    "            try:\n",
    "                south_urls.append('https://www.mlslistings.com/'+soup.find_all(class_='search-nav-link')[j]['href'])\n",
    "            except:\n",
    "                break"
   ]
  },
  {
   "cell_type": "code",
   "execution_count": 66,
   "metadata": {},
   "outputs": [
    {
     "name": "stdout",
     "output_type": "stream",
     "text": [
      "-0.00034880638122558594 seconds\n",
      "Number of urls collected:  3279\n"
     ]
    }
   ],
   "source": [
    "# Run the url collector function\n",
    "import time\n",
    "start = time.time()\n",
    "s1_urls = south_urls[:2515]\n",
    "s2_urls = south_urls[2516:]\n",
    "# mlssale_s1_urls(200)\n",
    "end = time.time()\n",
    "print(start-end,'seconds')\n",
    "print('Number of urls collected: ',len(s1_urls)+len(s2_urls))"
   ]
  },
  {
   "cell_type": "code",
   "execution_count": 55,
   "metadata": {},
   "outputs": [
    {
     "data": {
      "text/plain": [
       "['https://www.mlslistings.com//property/ml81718236/6609-folklore-ct-san-jose-ca-95120/9033647']"
      ]
     },
     "execution_count": 55,
     "metadata": {},
     "output_type": "execute_result"
    }
   ],
   "source": [
    "# Invalid Link - Removed from \n",
    "south_urls[2514:2515]"
   ]
  },
  {
   "cell_type": "code",
   "execution_count": 53,
   "metadata": {},
   "outputs": [],
   "source": [
    "# Create a function to scrape data - currently listed for sale \n",
    "def mlssale_south():\n",
    "    for link in s1_urls:\n",
    "        try:\n",
    "            url = link\n",
    "            response = requests.get(url)\n",
    "            page = response.text\n",
    "            soup = BeautifulSoup(page,\"lxml\")\n",
    "        except:\n",
    "            break\n",
    "        # Address\n",
    "        titles.append(soup.find_all(class_='font-weight-bold h font-size-xl line-height-lg')[0].text.strip())\n",
    "        # Price\n",
    "        listing_price = soup.find_all('h4')[0].text.split(' ')[0].strip()\n",
    "        try:\n",
    "            listing_price = \"{0:.2f}\".format(round(float(listing_price.replace('$','').replace(',','')),2))\n",
    "        except:\n",
    "            listing_price = \"{0:.2f}\".format(float(0))\n",
    "        prices.append(listing_price)\n",
    "        # Property Type\n",
    "        prptyp.append(soup.find_all(class_='font-size-base sm-sticky')[0].text.strip())\n",
    "        # Number of Bedrooms\n",
    "        bednum.append(soup.find('thead').find_all(class_='text-xs-center')[0].text.strip())\n",
    "        # Number of Bathrooms\n",
    "        batnum.append(soup.find('thead').find_all(class_='text-xs-center')[1].text.strip())\n",
    "        # Property Square Footage\n",
    "        sqfoot.append(soup.find('thead').find_all(class_='text-xs-center')[2].text.strip())\n",
    "        # Lot Size Square Footage\n",
    "        lotsiz.append(soup.find('thead').find_all(class_='text-xs-center')[3].text.strip())\n",
    "        # Built Year\n",
    "        buildt.append(soup.find('thead').find_all(class_='text-xs-center')[4].text.strip())\n",
    "        # Days on Site\n",
    "        status.append(soup.find_all(class_='card-text font-size-midr line-height-xl')[2].text.strip())\n",
    "        # MLS Number\n",
    "        mlsnum.append(soup.find_all(class_='card-text font-size-midr line-height-xl')[0].text.strip())\n",
    "#         # Bathroom Details\n",
    "#         detbat.append(soup.find_all(class_='card-text font-size-midr line-height-xl')[4].text.strip())\n",
    "        # Kitchen Details\n",
    "        detkit.append(soup.find_all(class_='card-text font-size-midr line-height-xl')[5].text.strip())\n",
    "#         # Dining Room Details\n",
    "#         detdin.append(soup.find_all(class_='card-text font-size-midr line-height-xl')[6].text.strip())\n",
    "        # Fireplace Details\n",
    "        detfir.append(soup.find_all(class_='card-text font-size-midr line-height-xl')[8].text.strip())\n",
    "#         # Flooring Details\n",
    "#         detflr.append(soup.find_all(class_='card-text font-size-midr line-height-xl')[9].text.strip())\n",
    "        # Laundry Details\n",
    "        detldr.append(soup.find_all(class_='card-text font-size-midr line-height-xl')[10].text.strip())\n",
    "        # Cooling Details\n",
    "        detcoo.append(soup.find_all(class_='card-text font-size-midr line-height-xl')[11].text.strip())\n",
    "        # Heating Details\n",
    "        dethea.append(soup.find_all(class_='card-text font-size-midr line-height-xl')[12].text.strip())\n",
    "        # Roof Details\n",
    "        detroo.append(soup.find_all(class_='card-text font-size-midr line-height-xl')[13].text.strip())\n",
    "        # Pool Details\n",
    "        detpoo.append(soup.find_all(class_='card-text font-size-midr line-height-xl')[15].text.strip())\n",
    "        # Style Details\n",
    "        detsty.append(soup.find_all(class_='card-text font-size-midr line-height-xl')[16].text.strip())\n",
    "        # Garage Details\n",
    "        detgar.append(soup.find_all(class_='card-text font-size-midr line-height-xl')[18].text.strip())\n",
    "        # Elementary District Details\n",
    "        detesd.append(soup.find_all(class_='card-text font-size-midr line-height-xl')[19].text.strip())\n",
    "        # High School District Details\n",
    "        dethsd.append(soup.find_all(class_='card-text font-size-midr line-height-xl')[20].text.strip())\n",
    "        # Sewer Details\n",
    "        detsew.append(soup.find_all(class_='card-text font-size-midr line-height-xl')[22].text.strip())\n",
    "        # Water Details\n",
    "        detwat.append(soup.find_all(class_='card-text font-size-midr line-height-xl')[23].text.strip())\n",
    "        # HOA Fee Details\n",
    "        dethoa.append(soup.find_all(class_='card-text font-size-midr line-height-xl')[24].text.strip())\n",
    "        # Complex Amenities Details\n",
    "        detcpx.append(soup.find_all(class_='card-text font-size-midr line-height-xl')[25].text.strip())\n",
    "        # Listing Agency\n",
    "        broker.append(soup.find_all(class_='mb-2')[0].find_all('p')[2].text.strip())"
   ]
  },
  {
   "cell_type": "code",
   "execution_count": 54,
   "metadata": {},
   "outputs": [
    {
     "name": "stdout",
     "output_type": "stream",
     "text": [
      "-753.4900877475739 seconds\n"
     ]
    }
   ],
   "source": [
    "# Create empty arrays for scraping\n",
    "import time\n",
    "start = time.time()\n",
    "titles = []\n",
    "prices = []\n",
    "prptyp = []\n",
    "bednum = []\n",
    "batnum = []\n",
    "sqfoot = []\n",
    "lotsiz = []\n",
    "buildt = []\n",
    "status = []\n",
    "mlsnum = []\n",
    "detkit = []\n",
    "detfir = []\n",
    "detldr = []\n",
    "detcoo = []\n",
    "dethea = []\n",
    "detroo = []\n",
    "detpoo = []\n",
    "detsty = []\n",
    "detgar = []\n",
    "detesd = []\n",
    "dethsd = []\n",
    "detsew = []\n",
    "detwat = []\n",
    "dethoa = []\n",
    "detcpx = []\n",
    "broker = []\n",
    "# Run the scraper for South Bay (For Sale)\n",
    "mlssale_south()\n",
    "end = time.time()\n",
    "# Check scrape run time\n",
    "print(start-end,\"seconds\")"
   ]
  },
  {
   "cell_type": "code",
   "execution_count": 37,
   "metadata": {},
   "outputs": [
    {
     "name": "stdout",
     "output_type": "stream",
     "text": [
      "Number of Values Scraped: 2515 2515 2515 2515 2515 2515 2515 2515 2515 2515 2515 2515 2515 2515 2515 2515 2515 2515 2515 2515 2515 2515 2515 2515 2515 2515\n"
     ]
    }
   ],
   "source": [
    "# Check the array size\n",
    "print('Number of Values Scraped:',len(titles),len(prices),len(prptyp),len(bednum),len(batnum),len(sqfoot),len(lotsiz),len(buildt),len(status),len(mlsnum),len(detkit),len(detfir),len(detldr),len(detcoo),len(dethea),len(detroo),len(detpoo),len(detsty),len(detgar),len(detesd),len(dethsd),len(detsew),len(detwat),len(dethoa),len(detcpx),len(broker))\n",
    "# Create a DataFrame for the scraped data\n",
    "mlssale_s1_df = pd.DataFrame({'Address': titles, 'Prices': prices, 'Property_Type': prptyp, 'Bedrooms': bednum, 'Bathrooms': batnum, 'Sq_Ft': sqfoot, 'Lot_Size': lotsiz, 'Built': buildt, 'Status': status, 'MLS_Number': mlsnum, 'Kitchen': detkit, 'Fireplace': detfir, 'Laundry': detldr , 'Cooling': detcoo, 'Heating': dethea, 'Roof': detroo, 'Pool': detpoo, 'Style': detsty, 'Garage': detgar, 'ES_District': detesd, 'HS_District': dethsd, 'Sewer': detsew, 'Water': detwat, 'HOA': dethoa, 'Complex_Amenities': detcpx, 'Broker': broker})"
   ]
  },
  {
   "cell_type": "code",
   "execution_count": 49,
   "metadata": {},
   "outputs": [
    {
     "data": {
      "text/html": [
       "<div>\n",
       "<style scoped>\n",
       "    .dataframe tbody tr th:only-of-type {\n",
       "        vertical-align: middle;\n",
       "    }\n",
       "\n",
       "    .dataframe tbody tr th {\n",
       "        vertical-align: top;\n",
       "    }\n",
       "\n",
       "    .dataframe thead th {\n",
       "        text-align: right;\n",
       "    }\n",
       "</style>\n",
       "<table border=\"1\" class=\"dataframe\">\n",
       "  <thead>\n",
       "    <tr style=\"text-align: right;\">\n",
       "      <th></th>\n",
       "      <th>Address</th>\n",
       "      <th>Prices</th>\n",
       "      <th>Property_Type</th>\n",
       "      <th>Bedrooms</th>\n",
       "      <th>Bathrooms</th>\n",
       "      <th>Sq_Ft</th>\n",
       "      <th>Lot_Size</th>\n",
       "      <th>Built</th>\n",
       "      <th>Status</th>\n",
       "      <th>MLS_Number</th>\n",
       "      <th>...</th>\n",
       "      <th>Pool</th>\n",
       "      <th>Style</th>\n",
       "      <th>Garage</th>\n",
       "      <th>ES_District</th>\n",
       "      <th>HS_District</th>\n",
       "      <th>Sewer</th>\n",
       "      <th>Water</th>\n",
       "      <th>HOA</th>\n",
       "      <th>Complex_Amenities</th>\n",
       "      <th>Broker</th>\n",
       "    </tr>\n",
       "  </thead>\n",
       "  <tbody>\n",
       "    <tr>\n",
       "      <th>2514</th>\n",
       "      <td>6609 Folklore Ct, San Jose, CA 95120</td>\n",
       "      <td>849950.00</td>\n",
       "      <td>Condominium</td>\n",
       "      <td>2</td>\n",
       "      <td>2</td>\n",
       "      <td>1,124</td>\n",
       "      <td>2,172</td>\n",
       "      <td>1976</td>\n",
       "      <td>61</td>\n",
       "      <td>ML81718236</td>\n",
       "      <td>...</td>\n",
       "      <td>Community Facility, In Ground</td>\n",
       "      <td>–</td>\n",
       "      <td>Detached, Gate/Door Opener, Garage: 2 Car(s)</td>\n",
       "      <td>San Jose Unified</td>\n",
       "      <td>San Jose Unified</td>\n",
       "      <td>Public Sewer</td>\n",
       "      <td>Public</td>\n",
       "      <td>$370</td>\n",
       "      <td>–</td>\n",
       "      <td>Keller Williams Realty-silicon Valley</td>\n",
       "    </tr>\n",
       "  </tbody>\n",
       "</table>\n",
       "<p>1 rows × 26 columns</p>\n",
       "</div>"
      ],
      "text/plain": [
       "                                   Address     Prices Property_Type Bedrooms  \\\n",
       "2514  6609 Folklore Ct, San Jose, CA 95120  849950.00   Condominium        2   \n",
       "\n",
       "     Bathrooms  Sq_Ft Lot_Size Built Status  MLS_Number  \\\n",
       "2514         2  1,124    2,172  1976     61  ML81718236   \n",
       "\n",
       "                      ...                                             Pool  \\\n",
       "2514                  ...                    Community Facility, In Ground   \n",
       "\n",
       "     Style                                        Garage       ES_District  \\\n",
       "2514     –  Detached, Gate/Door Opener, Garage: 2 Car(s)  San Jose Unified   \n",
       "\n",
       "           HS_District         Sewer   Water   HOA Complex_Amenities  \\\n",
       "2514  San Jose Unified  Public Sewer  Public  $370                 –   \n",
       "\n",
       "                                     Broker  \n",
       "2514  Keller Williams Realty-silicon Valley  \n",
       "\n",
       "[1 rows x 26 columns]"
      ]
     },
     "execution_count": 49,
     "metadata": {},
     "output_type": "execute_result"
    }
   ],
   "source": [
    "# Sample test to ensure that the data was compiled correctly\n",
    "# mlssale_s1_df.sample(10)\n",
    "# mlssale_s1_df.head(100)\n",
    "# mlssale_s1_df.tail(62)\n",
    "# pd.set_option('display.max_colwidth', -1)\n",
    "mlssale_s1_df[-1:]"
   ]
  },
  {
   "cell_type": "code",
   "execution_count": 57,
   "metadata": {},
   "outputs": [
    {
     "name": "stdout",
     "output_type": "stream",
     "text": [
      "Number of Values Scraped: 764 764 764 764 764 764 764 764 764 764 764 764 764 764 764 764 764 764 764 764 764 764 764 764 764 764\n"
     ]
    }
   ],
   "source": [
    "# Check the array size\n",
    "print('Number of Values Scraped:',len(titles),len(prices),len(prptyp),len(bednum),len(batnum),len(sqfoot),len(lotsiz),len(buildt),len(status),len(mlsnum),len(detkit),len(detfir),len(detldr),len(detcoo),len(dethea),len(detroo),len(detpoo),len(detsty),len(detgar),len(detesd),len(dethsd),len(detsew),len(detwat),len(dethoa),len(detcpx),len(broker))\n",
    "# Create a DataFrame for the scraped data\n",
    "mlssale_s2_df = pd.DataFrame({'Address': titles, 'Prices': prices, 'Property_Type': prptyp, 'Bedrooms': bednum, 'Bathrooms': batnum, 'Sq_Ft': sqfoot, 'Lot_Size': lotsiz, 'Built': buildt, 'Status': status, 'MLS_Number': mlsnum, 'Kitchen': detkit, 'Fireplace': detfir, 'Laundry': detldr , 'Cooling': detcoo, 'Heating': dethea, 'Roof': detroo, 'Pool': detpoo, 'Style': detsty, 'Garage': detgar, 'ES_District': detesd, 'HS_District': dethsd, 'Sewer': detsew, 'Water': detwat, 'HOA': dethoa, 'Complex_Amenities': detcpx, 'Broker': broker})"
   ]
  },
  {
   "cell_type": "code",
   "execution_count": 58,
   "metadata": {},
   "outputs": [
    {
     "data": {
      "text/plain": [
       "764"
      ]
     },
     "execution_count": 58,
     "metadata": {},
     "output_type": "execute_result"
    }
   ],
   "source": [
    "# Sample test to ensure that the data was compiled correctly\n",
    "mlssale_s2_df.shape[0]"
   ]
  },
  {
   "cell_type": "code",
   "execution_count": 59,
   "metadata": {},
   "outputs": [],
   "source": [
    "# Save the dataframe MLS South Bay (For Sale)\n",
    "mlssale_s1_df.to_pickle('data/mlssale_s1_20181008.pkl')\n",
    "mlssale_s2_df.to_pickle('data/mlssale_s2_20181008.pkl')"
   ]
  },
  {
   "cell_type": "markdown",
   "metadata": {},
   "source": [
    "## San Mateo County *- for sale*\n",
    "The section below scrapes houses in San Mateo County currently listed for sale."
   ]
  },
  {
   "cell_type": "code",
   "execution_count": 67,
   "metadata": {},
   "outputs": [],
   "source": [
    "# Create a function to collect all the url to scrape - San Mateo County (For Sale)\n",
    "def mlssale_sm_urls(pagenum): \n",
    "    for i in range(1, pagenum+1):\n",
    "        try:\n",
    "            url = 'https://www.mlslistings.com/Search/Result/03f251a4-1cb1-4d0b-8b90-10cf15ca6f99/{0}?view=list'.format(i)\n",
    "            response = requests.get(url)\n",
    "            page = response.text\n",
    "            soup = BeautifulSoup(page,\"lxml\")\n",
    "        except:\n",
    "            break\n",
    "\n",
    "        for j in range(1,101,2):\n",
    "            try:\n",
    "                sm_urls.append('https://www.mlslistings.com/'+soup.find_all(class_='search-nav-link')[j]['href'])\n",
    "            except:\n",
    "                break"
   ]
  },
  {
   "cell_type": "code",
   "execution_count": 78,
   "metadata": {},
   "outputs": [
    {
     "name": "stdout",
     "output_type": "stream",
     "text": [
      "Number of urls collected:  1260\n"
     ]
    }
   ],
   "source": [
    "# Run the url collector function\n",
    "import time\n",
    "start = time.time()\n",
    "sm_urls = []\n",
    "mlssale_sm_urls(200)\n",
    "end = time.time()\n",
    "print(start-end,'seconds')\n",
    "print('Number of urls collected: ',len(sm_urls))\n",
    "# sm_urls"
   ]
  },
  {
   "cell_type": "code",
   "execution_count": 79,
   "metadata": {},
   "outputs": [],
   "source": [
    "# Create a function to scrape data - currently listed for sale \n",
    "def mlssale_sm():\n",
    "    for link in sm_urls:\n",
    "        try:\n",
    "            url = link\n",
    "            response = requests.get(url)\n",
    "            page = response.text\n",
    "            soup = BeautifulSoup(page,\"lxml\")\n",
    "        except:\n",
    "            break\n",
    "        # Address\n",
    "        titles.append(soup.find_all(class_='font-weight-bold h font-size-xl line-height-lg')[0].text.strip())\n",
    "        # Price\n",
    "        listing_price = soup.find_all('h4')[0].text.split(' ')[0].strip()\n",
    "        try:\n",
    "            listing_price = \"{0:.2f}\".format(round(float(listing_price.replace('$','').replace(',','')),2))\n",
    "        except:\n",
    "            listing_price = \"{0:.2f}\".format(float(0))\n",
    "        prices.append(listing_price)\n",
    "        # Property Type\n",
    "        prptyp.append(soup.find_all(class_='font-size-base sm-sticky')[0].text.strip())\n",
    "        # Number of Bedrooms\n",
    "        bednum.append(soup.find('thead').find_all(class_='text-xs-center')[0].text.strip())\n",
    "        # Number of Bathrooms\n",
    "        batnum.append(soup.find('thead').find_all(class_='text-xs-center')[1].text.strip())\n",
    "        # Property Square Footage\n",
    "        sqfoot.append(soup.find('thead').find_all(class_='text-xs-center')[2].text.strip())\n",
    "        # Lot Size Square Footage\n",
    "        lotsiz.append(soup.find('thead').find_all(class_='text-xs-center')[3].text.strip())\n",
    "        # Built Year\n",
    "        buildt.append(soup.find('thead').find_all(class_='text-xs-center')[4].text.strip())\n",
    "        # Days on Site\n",
    "        status.append(soup.find_all(class_='card-text font-size-midr line-height-xl')[2].text.strip())\n",
    "        # MLS Number\n",
    "        mlsnum.append(soup.find_all(class_='card-text font-size-midr line-height-xl')[0].text.strip())\n",
    "#         # Bathroom Details\n",
    "#         detbat.append(soup.find_all(class_='card-text font-size-midr line-height-xl')[4].text.strip())\n",
    "        # Kitchen Details\n",
    "        detkit.append(soup.find_all(class_='card-text font-size-midr line-height-xl')[5].text.strip())\n",
    "#         # Dining Room Details\n",
    "#         detdin.append(soup.find_all(class_='card-text font-size-midr line-height-xl')[6].text.strip())\n",
    "        # Fireplace Details\n",
    "        detfir.append(soup.find_all(class_='card-text font-size-midr line-height-xl')[8].text.strip())\n",
    "#         # Flooring Details\n",
    "#         detflr.append(soup.find_all(class_='card-text font-size-midr line-height-xl')[9].text.strip())\n",
    "        # Laundry Details\n",
    "        detldr.append(soup.find_all(class_='card-text font-size-midr line-height-xl')[10].text.strip())\n",
    "        # Cooling Details\n",
    "        detcoo.append(soup.find_all(class_='card-text font-size-midr line-height-xl')[11].text.strip())\n",
    "        # Heating Details\n",
    "        dethea.append(soup.find_all(class_='card-text font-size-midr line-height-xl')[12].text.strip())\n",
    "        # Roof Details\n",
    "        detroo.append(soup.find_all(class_='card-text font-size-midr line-height-xl')[13].text.strip())\n",
    "        # Pool Details\n",
    "        detpoo.append(soup.find_all(class_='card-text font-size-midr line-height-xl')[15].text.strip())\n",
    "        # Style Details\n",
    "        detsty.append(soup.find_all(class_='card-text font-size-midr line-height-xl')[16].text.strip())\n",
    "        # Garage Details\n",
    "        detgar.append(soup.find_all(class_='card-text font-size-midr line-height-xl')[18].text.strip())\n",
    "        # Elementary District Details\n",
    "        detesd.append(soup.find_all(class_='card-text font-size-midr line-height-xl')[19].text.strip())\n",
    "        # High School District Details\n",
    "        dethsd.append(soup.find_all(class_='card-text font-size-midr line-height-xl')[20].text.strip())\n",
    "        # Sewer Details\n",
    "        detsew.append(soup.find_all(class_='card-text font-size-midr line-height-xl')[22].text.strip())\n",
    "        # Water Details\n",
    "        detwat.append(soup.find_all(class_='card-text font-size-midr line-height-xl')[23].text.strip())\n",
    "        # HOA Fee Details\n",
    "        dethoa.append(soup.find_all(class_='card-text font-size-midr line-height-xl')[24].text.strip())\n",
    "        # Complex Amenities Details\n",
    "        detcpx.append(soup.find_all(class_='card-text font-size-midr line-height-xl')[25].text.strip())\n",
    "        # Listing Agency\n",
    "        broker.append(soup.find_all(class_='mb-2')[0].find_all('p')[2].text.strip())"
   ]
  },
  {
   "cell_type": "code",
   "execution_count": 80,
   "metadata": {},
   "outputs": [
    {
     "name": "stdout",
     "output_type": "stream",
     "text": [
      "-1475.6537375450134 seconds\n"
     ]
    }
   ],
   "source": [
    "# Create empty arrays for scraping\n",
    "import time\n",
    "start = time.time()\n",
    "titles = []\n",
    "prices = []\n",
    "prptyp = []\n",
    "bednum = []\n",
    "batnum = []\n",
    "sqfoot = []\n",
    "lotsiz = []\n",
    "buildt = []\n",
    "status = []\n",
    "mlsnum = []\n",
    "detkit = []\n",
    "detfir = []\n",
    "detldr = []\n",
    "detcoo = []\n",
    "dethea = []\n",
    "detroo = []\n",
    "detpoo = []\n",
    "detsty = []\n",
    "detgar = []\n",
    "detesd = []\n",
    "dethsd = []\n",
    "detsew = []\n",
    "detwat = []\n",
    "dethoa = []\n",
    "detcpx = []\n",
    "broker = []\n",
    "# Run the scraper for San Mateo (For Sale)\n",
    "mlssale_sm()\n",
    "end = time.time()\n",
    "# Check scrape run time\n",
    "print(start-end,\"seconds\")"
   ]
  },
  {
   "cell_type": "code",
   "execution_count": 81,
   "metadata": {},
   "outputs": [
    {
     "name": "stdout",
     "output_type": "stream",
     "text": [
      "Number of Values Scraped: 1260 1260 1260 1260 1260 1260 1260 1260 1260 1260 1260 1260 1260 1260 1260 1260 1260 1260 1260 1260 1260 1260 1260 1260 1260 1260\n"
     ]
    }
   ],
   "source": [
    "# Check the array size\n",
    "print('Number of Values Scraped:',len(titles),len(prices),len(prptyp),len(bednum),len(batnum),len(sqfoot),len(lotsiz),len(buildt),len(status),len(mlsnum),len(detkit),len(detfir),len(detldr),len(detcoo),len(dethea),len(detroo),len(detpoo),len(detsty),len(detgar),len(detesd),len(dethsd),len(detsew),len(detwat),len(dethoa),len(detcpx),len(broker))\n",
    "# Create a DataFrame for the scraped data\n",
    "mlssale_sm_df = pd.DataFrame({'Address': titles, 'Prices': prices, 'Property_Type': prptyp, 'Bedrooms': bednum, 'Bathrooms': batnum, 'Sq_Ft': sqfoot, 'Lot_Size': lotsiz, 'Built': buildt, 'Status': status, 'MLS_Number': mlsnum, 'Kitchen': detkit, 'Fireplace': detfir, 'Laundry': detldr , 'Cooling': detcoo, 'Heating': dethea, 'Roof': detroo, 'Pool': detpoo, 'Style': detsty, 'Garage': detgar, 'ES_District': detesd, 'HS_District': dethsd, 'Sewer': detsew, 'Water': detwat, 'HOA': dethoa, 'Complex_Amenities': detcpx, 'Broker': broker})"
   ]
  },
  {
   "cell_type": "code",
   "execution_count": null,
   "metadata": {},
   "outputs": [],
   "source": [
    "# Sample test to ensure that the data was compiled correctly\n",
    "# mlssale_sm_df.sample(10)\n",
    "# mlssale_sm_df.head(100)\n",
    "# mlssale_sm_df.tail(62)\n",
    "# pd.set_option('display.max_colwidth', -1)\n",
    "# mlssale_sm_df[['Address','Property_Type','Built','Laundry']][mlssale_sm_df.Laundry=='–']"
   ]
  },
  {
   "cell_type": "code",
   "execution_count": 82,
   "metadata": {},
   "outputs": [],
   "source": [
    "# Save the dataframe MLS San Mateo (For Sale)\n",
    "mlssale_sm_df.to_pickle('data/mlssale_sm_20181008.pkl')"
   ]
  }
 ],
 "metadata": {
  "kernelspec": {
   "display_name": "Python 3",
   "language": "python",
   "name": "python3"
  },
  "language_info": {
   "codemirror_mode": {
    "name": "ipython",
    "version": 3
   },
   "file_extension": ".py",
   "mimetype": "text/x-python",
   "name": "python",
   "nbconvert_exporter": "python",
   "pygments_lexer": "ipython3",
   "version": "3.6.5"
  }
 },
 "nbformat": 4,
 "nbformat_minor": 2
}
