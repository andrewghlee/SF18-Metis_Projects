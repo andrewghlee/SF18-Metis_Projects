{
 "cells": [
  {
   "cell_type": "code",
   "execution_count": 48,
   "metadata": {},
   "outputs": [],
   "source": [
    "# Python 2 & 3 Compatibility\n",
    "from __future__ import print_function, division\n",
    "\n",
    "# Necessary imports\n",
    "import pandas as pd\n",
    "import numpy as np\n",
    "import pickle \n",
    "import patsy\n",
    "import seaborn as sns\n",
    "#from seaborn import plt (alternate)\n",
    "import matplotlib.pyplot as plt\n",
    "import statsmodels.api as sm\n",
    "import statsmodels.formula.api as smf\n",
    "from sklearn.linear_model import LinearRegression\n",
    "from sklearn import metrics\n",
    "from sklearn.model_selection import train_test_split\n",
    "from sklearn.linear_model import RidgeCV\n",
    "from sklearn.pipeline import make_pipeline\n",
    "from sklearn.preprocessing import PolynomialFeatures\n",
    "from sklearn.cross_validation import KFold\n",
    "from sklearn.preprocessing import MultiLabelBinarizer\n",
    "from sklearn.feature_selection import f_regression\n",
    "from sklearn.cross_validation import cross_val_score\n",
    "from patsy import dmatrices\n",
    "import statsmodels.api as sm\n",
    "from statsmodels.stats.outliers_influence import variance_inflation_factor\n",
    "from sklearn.preprocessing import StandardScaler\n",
    "\n",
    "from sklearn.linear_model import RidgeCV\n",
    "from sklearn.linear_model import LassoCV\n",
    "from sklearn.linear_model import Lasso\n",
    "from sklearn.linear_model import ElasticNet\n",
    "from sklearn.linear_model import ElasticNetCV\n",
    "from sklearn.model_selection import GridSearchCV\n",
    "\n",
    "from sklearn.linear_model import LogisticRegression\n",
    "from sklearn.metrics import accuracy_score\n",
    "\n",
    "\n",
    "%matplotlib inline\n",
    "\n",
    "import warnings\n",
    "warnings.filterwarnings('ignore')"
   ]
  },
  {
   "cell_type": "code",
   "execution_count": 519,
   "metadata": {},
   "outputs": [],
   "source": [
    "# Read compiled data for regression analysis\n",
    "yX = pd.read_pickle('data/yX_trans.pkl')"
   ]
  },
  {
   "cell_type": "code",
   "execution_count": 512,
   "metadata": {},
   "outputs": [],
   "source": [
    "yX = yX[['Prices', 'SingleFamilyResidence', 'Cars_0', 'Cars_1', 'Full_Baths_1', 'Full_Baths_3', 'Sq_Ft', 'Years_Since_Built',\n",
    "'Days_On_Site', 'HOA', 'Fireplace_b', 'Pool_b', 'Cars_10',\n",
    "'Cars_12', 'Cars_16', 'Cars_246', 'Cars_35', 'Cars_4', 'Cars_5',\n",
    "'Cars_6', 'Cars_7', 'Cars_8', 'Cars_9', 'Full_Baths_12',\n",
    "'Full_Baths_5', 'Full_Baths_6', 'Full_Baths_7', 'Full_Baths_8',\n",
    "'Full_Baths_9', 'Part_Baths_3', 'Part_Baths_4',\n",
    "'District_AlamedaCityUnified', 'District_AlamedaUnified',\n",
    "'District_AlbanyCityUnified', 'District_AlumRockUnionElementary',\n",
    "'District_BayshoreElementary',\n",
    "'District_Belmont_RedwoodShoresElementary',\n",
    "'District_BerryessaUnionElementary', 'District_BrisbaneElementary',\n",
    "'District_BurlingameElementary', 'District_CabrilloUnified',\n",
    "'District_CampbellUnionElementary', 'District_CastroValleyUnified',\n",
    "'District_CupertinoUnion', 'District_DublinUnified',\n",
    "'District_EastSideUnionHigh', 'District_EmeryUnified',\n",
    "'District_EvergreenElementary',\n",
    "'District_Franklin_McKinleyElementary', 'District_FremontUnified',\n",
    "'District_GilroyUnified', 'District_HaywardUnified',\n",
    "'District_HillsboroughCityElementary',\n",
    "'District_JeffersonElementarySanMateo',\n",
    "'District_LasLomitasElementary',\n",
    "'District_LivermoreValleyJointUnified',\n",
    "'District_LosAltosElementary', 'District_LosGatosUnionElementary',\n",
    "'District_LutherBurbank', 'District_MenloParkCityElementary',\n",
    "'District_MillbraeElementary', 'District_MilpitasUnified',\n",
    "'District_MorelandElementary', 'District_MorganHillUnified',\n",
    "'District_MountainViewWhisman', 'District_MtPleasantElementary',\n",
    "'District_NewHavenUnified', 'District_NewarkUnified',\n",
    "'District_OakGroveElementary', 'District_OaklandUnified',\n",
    "'District_OrchardElementary', 'District_Pacifica',\n",
    "'District_PaloAltoUnified', 'District_PiedmontCityUnified',\n",
    "'District_PleasantonUnified', 'District_PortolaValleyElementary',\n",
    "'District_RavenswoodCityElementary',\n",
    "'District_RedwoodCityElementary',\n",
    "'District_SanBrunoParkElementary', 'District_SanCarlosElementary',\n",
    "'District_SanFranciscoUnified', 'District_SanJoseUnified',\n",
    "'District_SanLeandroUnified', 'District_SanLorenzoUnified',\n",
    "'District_SanMateo_FosterCityElementary',\n",
    "'District_SaratogaUnionElementary',\n",
    "'District_SouthSanFranciscoUnified', 'District_Sunnyvale',\n",
    "'District_SunolGlenElementary', 'District_UnionElementary',\n",
    "'District_WoodsideElementary']]"
   ]
  },
  {
   "cell_type": "code",
   "execution_count": 520,
   "metadata": {},
   "outputs": [],
   "source": [
    "# X_trans.columns\n",
    "# X_trans = X_trans[['SingleFamilyResidence','Sq_Ft', 'Years_Since_Built', 'Days_On_Site', 'HOA', 'Fireplace_b', 'Pool_b']]\n",
    "# yX = yX[['Prices','SingleFamilyResidence','Sq_Ft', 'Years_Since_Built', 'Days_On_Site', 'HOA', 'Fireplace_b', 'Pool_b']]\n",
    "yX = yX[['Prices', 'SingleFamilyResidence', 'Sq_Ft', 'Years_Since_Built',\n",
    "'Days_On_Site', 'HOA', 'Fireplace_b', 'District_AlbanyCityUnified', 'District_AlumRockUnionElementary',\n",
    "'District_Belmont_RedwoodShoresElementary',\n",
    "'District_BerryessaUnionElementary', 'District_BrisbaneElementary',\n",
    "'District_BurlingameElementary', 'District_CabrilloUnified',\n",
    "'District_CampbellUnionElementary', 'District_CastroValleyUnified',\n",
    "'District_CupertinoUnion', 'District_DublinUnified', 'District_EmeryUnified',\n",
    "'District_EvergreenElementary', 'District_FremontUnified',\n",
    "'District_GilroyUnified', 'District_HaywardUnified',\n",
    "'District_HillsboroughCityElementary',\n",
    "'District_JeffersonElementarySanMateo',\n",
    "'District_LasLomitasElementary',\n",
    "'District_LivermoreValleyJointUnified',\n",
    "'District_LosAltosElementary', 'District_LosGatosUnionElementary', 'District_MenloParkCityElementary',\n",
    "'District_MillbraeElementary', 'District_MilpitasUnified',\n",
    "'District_MorelandElementary', 'District_MorganHillUnified',\n",
    "'District_MountainViewWhisman', 'District_MtPleasantElementary',\n",
    "'District_NewHavenUnified', 'District_OrchardElementary', 'District_Pacifica',\n",
    "'District_PaloAltoUnified', 'District_PiedmontCityUnified',\n",
    "'District_PleasantonUnified', 'District_PortolaValleyElementary',\n",
    "'District_RavenswoodCityElementary',\n",
    "'District_RedwoodCityElementary',\n",
    "'District_SanBrunoParkElementary', 'District_SanCarlosElementary',\n",
    "'District_SanFranciscoUnified', 'District_SanJoseUnified',\n",
    "'District_SanLeandroUnified', 'District_SanLorenzoUnified',\n",
    "'District_SanMateo_FosterCityElementary',\n",
    "'District_SaratogaUnionElementary',\n",
    "'District_SouthSanFranciscoUnified', 'District_Sunnyvale', 'District_UnionElementary',\n",
    "'District_WoodsideElementary']]\n",
    "\n",
    "# yX.to_pickle('data/agl_data.pkl')"
   ]
  },
  {
   "cell_type": "code",
   "execution_count": 521,
   "metadata": {},
   "outputs": [
    {
     "data": {
      "text/plain": [
       "1126296.021320557"
      ]
     },
     "execution_count": 521,
     "metadata": {},
     "output_type": "execute_result"
    }
   ],
   "source": [
    "yX.Prices.mean()"
   ]
  },
  {
   "cell_type": "code",
   "execution_count": 522,
   "metadata": {},
   "outputs": [],
   "source": [
    "# yX[(yX.Prices<150000)|(yX.Prices>100000000)|(yX.Sq_Ft<100)]\n",
    "# yX[(yX.Prices>10000000)]\n",
    "yX = yX[(yX.Prices>350000)&(yX.Prices<2500000)&(yX.Sq_Ft>100)&(yX.Sq_Ft<5000)]"
   ]
  },
  {
   "cell_type": "code",
   "execution_count": 523,
   "metadata": {},
   "outputs": [
    {
     "data": {
      "text/plain": [
       "(92498, 57)"
      ]
     },
     "execution_count": 523,
     "metadata": {},
     "output_type": "execute_result"
    }
   ],
   "source": [
    "# yX.Prices.mean()\n",
    "yX.shape"
   ]
  },
  {
   "cell_type": "code",
   "execution_count": 524,
   "metadata": {},
   "outputs": [],
   "source": [
    "X = yX.drop('Prices',axis=1)\n",
    "# intercept = 100000\n",
    "# y_int = pd.DataFrame({'Intercept': intercept})\n",
    "# X = X.assign(y_int = lambda x: float(50000))\n",
    "y = yX['Prices']"
   ]
  },
  {
   "cell_type": "code",
   "execution_count": 525,
   "metadata": {},
   "outputs": [],
   "source": [
    "# Split test/train sets\n",
    "X_train, X_test, y_train, y_test = train_test_split(X, y, test_size=0.3)"
   ]
  },
  {
   "cell_type": "code",
   "execution_count": 569,
   "metadata": {},
   "outputs": [
    {
     "name": "stdout",
     "output_type": "stream",
     "text": [
      "RMSE: 233557.3079241047\n"
     ]
    },
    {
     "data": {
      "text/html": [
       "<div>\n",
       "<style scoped>\n",
       "    .dataframe tbody tr th:only-of-type {\n",
       "        vertical-align: middle;\n",
       "    }\n",
       "\n",
       "    .dataframe tbody tr th {\n",
       "        vertical-align: top;\n",
       "    }\n",
       "\n",
       "    .dataframe thead th {\n",
       "        text-align: right;\n",
       "    }\n",
       "</style>\n",
       "<table border=\"1\" class=\"dataframe\">\n",
       "  <thead>\n",
       "    <tr style=\"text-align: right;\">\n",
       "      <th></th>\n",
       "      <th>coef</th>\n",
       "      <th>coef_abs</th>\n",
       "    </tr>\n",
       "  </thead>\n",
       "  <tbody>\n",
       "    <tr>\n",
       "      <th>District_PaloAltoUnified</th>\n",
       "      <td>1.117175e+06</td>\n",
       "      <td>1.117175e+06</td>\n",
       "    </tr>\n",
       "    <tr>\n",
       "      <th>District_HillsboroughCityElementary</th>\n",
       "      <td>1.045845e+06</td>\n",
       "      <td>1.045845e+06</td>\n",
       "    </tr>\n",
       "    <tr>\n",
       "      <th>District_LosAltosElementary</th>\n",
       "      <td>9.432525e+05</td>\n",
       "      <td>9.432525e+05</td>\n",
       "    </tr>\n",
       "    <tr>\n",
       "      <th>District_MenloParkCityElementary</th>\n",
       "      <td>9.322599e+05</td>\n",
       "      <td>9.322599e+05</td>\n",
       "    </tr>\n",
       "    <tr>\n",
       "      <th>District_LasLomitasElementary</th>\n",
       "      <td>8.062185e+05</td>\n",
       "      <td>8.062185e+05</td>\n",
       "    </tr>\n",
       "    <tr>\n",
       "      <th>District_CupertinoUnion</th>\n",
       "      <td>8.059250e+05</td>\n",
       "      <td>8.059250e+05</td>\n",
       "    </tr>\n",
       "    <tr>\n",
       "      <th>District_SaratogaUnionElementary</th>\n",
       "      <td>7.872866e+05</td>\n",
       "      <td>7.872866e+05</td>\n",
       "    </tr>\n",
       "    <tr>\n",
       "      <th>District_BurlingameElementary</th>\n",
       "      <td>7.810999e+05</td>\n",
       "      <td>7.810999e+05</td>\n",
       "    </tr>\n",
       "    <tr>\n",
       "      <th>District_WoodsideElementary</th>\n",
       "      <td>7.240134e+05</td>\n",
       "      <td>7.240134e+05</td>\n",
       "    </tr>\n",
       "    <tr>\n",
       "      <th>District_MountainViewWhisman</th>\n",
       "      <td>7.129977e+05</td>\n",
       "      <td>7.129977e+05</td>\n",
       "    </tr>\n",
       "    <tr>\n",
       "      <th>District_SanCarlosElementary</th>\n",
       "      <td>6.653312e+05</td>\n",
       "      <td>6.653312e+05</td>\n",
       "    </tr>\n",
       "    <tr>\n",
       "      <th>District_PortolaValleyElementary</th>\n",
       "      <td>6.179001e+05</td>\n",
       "      <td>6.179001e+05</td>\n",
       "    </tr>\n",
       "    <tr>\n",
       "      <th>District_LosGatosUnionElementary</th>\n",
       "      <td>6.006163e+05</td>\n",
       "      <td>6.006163e+05</td>\n",
       "    </tr>\n",
       "    <tr>\n",
       "      <th>District_Sunnyvale</th>\n",
       "      <td>5.984965e+05</td>\n",
       "      <td>5.984965e+05</td>\n",
       "    </tr>\n",
       "    <tr>\n",
       "      <th>District_Belmont_RedwoodShoresElementary</th>\n",
       "      <td>5.920728e+05</td>\n",
       "      <td>5.920728e+05</td>\n",
       "    </tr>\n",
       "    <tr>\n",
       "      <th>District_PiedmontCityUnified</th>\n",
       "      <td>5.765013e+05</td>\n",
       "      <td>5.765013e+05</td>\n",
       "    </tr>\n",
       "    <tr>\n",
       "      <th>District_MillbraeElementary</th>\n",
       "      <td>5.472431e+05</td>\n",
       "      <td>5.472431e+05</td>\n",
       "    </tr>\n",
       "    <tr>\n",
       "      <th>District_RedwoodCityElementary</th>\n",
       "      <td>5.394054e+05</td>\n",
       "      <td>5.394054e+05</td>\n",
       "    </tr>\n",
       "    <tr>\n",
       "      <th>District_SanMateo_FosterCityElementary</th>\n",
       "      <td>4.725423e+05</td>\n",
       "      <td>4.725423e+05</td>\n",
       "    </tr>\n",
       "    <tr>\n",
       "      <th>District_MorelandElementary</th>\n",
       "      <td>4.644846e+05</td>\n",
       "      <td>4.644846e+05</td>\n",
       "    </tr>\n",
       "    <tr>\n",
       "      <th>District_SanFranciscoUnified</th>\n",
       "      <td>3.677382e+05</td>\n",
       "      <td>3.677382e+05</td>\n",
       "    </tr>\n",
       "    <tr>\n",
       "      <th>District_CampbellUnionElementary</th>\n",
       "      <td>3.485545e+05</td>\n",
       "      <td>3.485545e+05</td>\n",
       "    </tr>\n",
       "    <tr>\n",
       "      <th>District_UnionElementary</th>\n",
       "      <td>3.481718e+05</td>\n",
       "      <td>3.481718e+05</td>\n",
       "    </tr>\n",
       "    <tr>\n",
       "      <th>District_GilroyUnified</th>\n",
       "      <td>-3.303815e+05</td>\n",
       "      <td>3.303815e+05</td>\n",
       "    </tr>\n",
       "    <tr>\n",
       "      <th>District_OrchardElementary</th>\n",
       "      <td>2.744603e+05</td>\n",
       "      <td>2.744603e+05</td>\n",
       "    </tr>\n",
       "    <tr>\n",
       "      <th>SingleFamilyResidence</th>\n",
       "      <td>2.332490e+05</td>\n",
       "      <td>2.332490e+05</td>\n",
       "    </tr>\n",
       "    <tr>\n",
       "      <th>District_SanLeandroUnified</th>\n",
       "      <td>-2.149740e+05</td>\n",
       "      <td>2.149740e+05</td>\n",
       "    </tr>\n",
       "    <tr>\n",
       "      <th>District_SanLorenzoUnified</th>\n",
       "      <td>-2.044286e+05</td>\n",
       "      <td>2.044286e+05</td>\n",
       "    </tr>\n",
       "    <tr>\n",
       "      <th>District_HaywardUnified</th>\n",
       "      <td>-2.039649e+05</td>\n",
       "      <td>2.039649e+05</td>\n",
       "    </tr>\n",
       "    <tr>\n",
       "      <th>District_SanBrunoParkElementary</th>\n",
       "      <td>1.929486e+05</td>\n",
       "      <td>1.929486e+05</td>\n",
       "    </tr>\n",
       "    <tr>\n",
       "      <th>District_BrisbaneElementary</th>\n",
       "      <td>1.829167e+05</td>\n",
       "      <td>1.829167e+05</td>\n",
       "    </tr>\n",
       "    <tr>\n",
       "      <th>District_SanJoseUnified</th>\n",
       "      <td>1.825478e+05</td>\n",
       "      <td>1.825478e+05</td>\n",
       "    </tr>\n",
       "    <tr>\n",
       "      <th>District_MilpitasUnified</th>\n",
       "      <td>1.734910e+05</td>\n",
       "      <td>1.734910e+05</td>\n",
       "    </tr>\n",
       "    <tr>\n",
       "      <th>District_FremontUnified</th>\n",
       "      <td>1.711989e+05</td>\n",
       "      <td>1.711989e+05</td>\n",
       "    </tr>\n",
       "    <tr>\n",
       "      <th>District_LivermoreValleyJointUnified</th>\n",
       "      <td>-1.660698e+05</td>\n",
       "      <td>1.660698e+05</td>\n",
       "    </tr>\n",
       "    <tr>\n",
       "      <th>District_RavenswoodCityElementary</th>\n",
       "      <td>1.589240e+05</td>\n",
       "      <td>1.589240e+05</td>\n",
       "    </tr>\n",
       "    <tr>\n",
       "      <th>District_Pacifica</th>\n",
       "      <td>1.580459e+05</td>\n",
       "      <td>1.580459e+05</td>\n",
       "    </tr>\n",
       "    <tr>\n",
       "      <th>District_CastroValleyUnified</th>\n",
       "      <td>-1.564439e+05</td>\n",
       "      <td>1.564439e+05</td>\n",
       "    </tr>\n",
       "    <tr>\n",
       "      <th>District_MorganHillUnified</th>\n",
       "      <td>-1.431247e+05</td>\n",
       "      <td>1.431247e+05</td>\n",
       "    </tr>\n",
       "    <tr>\n",
       "      <th>District_BerryessaUnionElementary</th>\n",
       "      <td>1.370867e+05</td>\n",
       "      <td>1.370867e+05</td>\n",
       "    </tr>\n",
       "    <tr>\n",
       "      <th>District_AlbanyCityUnified</th>\n",
       "      <td>1.352887e+05</td>\n",
       "      <td>1.352887e+05</td>\n",
       "    </tr>\n",
       "    <tr>\n",
       "      <th>District_SouthSanFranciscoUnified</th>\n",
       "      <td>1.347527e+05</td>\n",
       "      <td>1.347527e+05</td>\n",
       "    </tr>\n",
       "    <tr>\n",
       "      <th>District_CabrilloUnified</th>\n",
       "      <td>1.332835e+05</td>\n",
       "      <td>1.332835e+05</td>\n",
       "    </tr>\n",
       "    <tr>\n",
       "      <th>District_MtPleasantElementary</th>\n",
       "      <td>-1.245938e+05</td>\n",
       "      <td>1.245938e+05</td>\n",
       "    </tr>\n",
       "    <tr>\n",
       "      <th>Fireplace_b</th>\n",
       "      <td>1.029847e+05</td>\n",
       "      <td>1.029847e+05</td>\n",
       "    </tr>\n",
       "    <tr>\n",
       "      <th>District_EmeryUnified</th>\n",
       "      <td>1.028264e+05</td>\n",
       "      <td>1.028264e+05</td>\n",
       "    </tr>\n",
       "    <tr>\n",
       "      <th>District_JeffersonElementarySanMateo</th>\n",
       "      <td>9.562480e+04</td>\n",
       "      <td>9.562480e+04</td>\n",
       "    </tr>\n",
       "    <tr>\n",
       "      <th>District_DublinUnified</th>\n",
       "      <td>-7.709614e+04</td>\n",
       "      <td>7.709614e+04</td>\n",
       "    </tr>\n",
       "    <tr>\n",
       "      <th>District_NewHavenUnified</th>\n",
       "      <td>-7.548826e+04</td>\n",
       "      <td>7.548826e+04</td>\n",
       "    </tr>\n",
       "    <tr>\n",
       "      <th>District_AlumRockUnionElementary</th>\n",
       "      <td>-6.160043e+04</td>\n",
       "      <td>6.160043e+04</td>\n",
       "    </tr>\n",
       "    <tr>\n",
       "      <th>District_EvergreenElementary</th>\n",
       "      <td>4.089430e+04</td>\n",
       "      <td>4.089430e+04</td>\n",
       "    </tr>\n",
       "    <tr>\n",
       "      <th>District_PleasantonUnified</th>\n",
       "      <td>4.074149e+04</td>\n",
       "      <td>4.074149e+04</td>\n",
       "    </tr>\n",
       "    <tr>\n",
       "      <th>Years_Since_Built</th>\n",
       "      <td>1.081605e+03</td>\n",
       "      <td>1.081605e+03</td>\n",
       "    </tr>\n",
       "    <tr>\n",
       "      <th>Sq_Ft</th>\n",
       "      <td>4.017543e+02</td>\n",
       "      <td>4.017543e+02</td>\n",
       "    </tr>\n",
       "    <tr>\n",
       "      <th>Days_On_Site</th>\n",
       "      <td>-2.194160e+02</td>\n",
       "      <td>2.194160e+02</td>\n",
       "    </tr>\n",
       "    <tr>\n",
       "      <th>HOA</th>\n",
       "      <td>1.355151e+02</td>\n",
       "      <td>1.355151e+02</td>\n",
       "    </tr>\n",
       "  </tbody>\n",
       "</table>\n",
       "</div>"
      ],
      "text/plain": [
       "                                                  coef      coef_abs\n",
       "District_PaloAltoUnified                  1.117175e+06  1.117175e+06\n",
       "District_HillsboroughCityElementary       1.045845e+06  1.045845e+06\n",
       "District_LosAltosElementary               9.432525e+05  9.432525e+05\n",
       "District_MenloParkCityElementary          9.322599e+05  9.322599e+05\n",
       "District_LasLomitasElementary             8.062185e+05  8.062185e+05\n",
       "District_CupertinoUnion                   8.059250e+05  8.059250e+05\n",
       "District_SaratogaUnionElementary          7.872866e+05  7.872866e+05\n",
       "District_BurlingameElementary             7.810999e+05  7.810999e+05\n",
       "District_WoodsideElementary               7.240134e+05  7.240134e+05\n",
       "District_MountainViewWhisman              7.129977e+05  7.129977e+05\n",
       "District_SanCarlosElementary              6.653312e+05  6.653312e+05\n",
       "District_PortolaValleyElementary          6.179001e+05  6.179001e+05\n",
       "District_LosGatosUnionElementary          6.006163e+05  6.006163e+05\n",
       "District_Sunnyvale                        5.984965e+05  5.984965e+05\n",
       "District_Belmont_RedwoodShoresElementary  5.920728e+05  5.920728e+05\n",
       "District_PiedmontCityUnified              5.765013e+05  5.765013e+05\n",
       "District_MillbraeElementary               5.472431e+05  5.472431e+05\n",
       "District_RedwoodCityElementary            5.394054e+05  5.394054e+05\n",
       "District_SanMateo_FosterCityElementary    4.725423e+05  4.725423e+05\n",
       "District_MorelandElementary               4.644846e+05  4.644846e+05\n",
       "District_SanFranciscoUnified              3.677382e+05  3.677382e+05\n",
       "District_CampbellUnionElementary          3.485545e+05  3.485545e+05\n",
       "District_UnionElementary                  3.481718e+05  3.481718e+05\n",
       "District_GilroyUnified                   -3.303815e+05  3.303815e+05\n",
       "District_OrchardElementary                2.744603e+05  2.744603e+05\n",
       "SingleFamilyResidence                     2.332490e+05  2.332490e+05\n",
       "District_SanLeandroUnified               -2.149740e+05  2.149740e+05\n",
       "District_SanLorenzoUnified               -2.044286e+05  2.044286e+05\n",
       "District_HaywardUnified                  -2.039649e+05  2.039649e+05\n",
       "District_SanBrunoParkElementary           1.929486e+05  1.929486e+05\n",
       "District_BrisbaneElementary               1.829167e+05  1.829167e+05\n",
       "District_SanJoseUnified                   1.825478e+05  1.825478e+05\n",
       "District_MilpitasUnified                  1.734910e+05  1.734910e+05\n",
       "District_FremontUnified                   1.711989e+05  1.711989e+05\n",
       "District_LivermoreValleyJointUnified     -1.660698e+05  1.660698e+05\n",
       "District_RavenswoodCityElementary         1.589240e+05  1.589240e+05\n",
       "District_Pacifica                         1.580459e+05  1.580459e+05\n",
       "District_CastroValleyUnified             -1.564439e+05  1.564439e+05\n",
       "District_MorganHillUnified               -1.431247e+05  1.431247e+05\n",
       "District_BerryessaUnionElementary         1.370867e+05  1.370867e+05\n",
       "District_AlbanyCityUnified                1.352887e+05  1.352887e+05\n",
       "District_SouthSanFranciscoUnified         1.347527e+05  1.347527e+05\n",
       "District_CabrilloUnified                  1.332835e+05  1.332835e+05\n",
       "District_MtPleasantElementary            -1.245938e+05  1.245938e+05\n",
       "Fireplace_b                               1.029847e+05  1.029847e+05\n",
       "District_EmeryUnified                     1.028264e+05  1.028264e+05\n",
       "District_JeffersonElementarySanMateo      9.562480e+04  9.562480e+04\n",
       "District_DublinUnified                   -7.709614e+04  7.709614e+04\n",
       "District_NewHavenUnified                 -7.548826e+04  7.548826e+04\n",
       "District_AlumRockUnionElementary         -6.160043e+04  6.160043e+04\n",
       "District_EvergreenElementary              4.089430e+04  4.089430e+04\n",
       "District_PleasantonUnified                4.074149e+04  4.074149e+04\n",
       "Years_Since_Built                         1.081605e+03  1.081605e+03\n",
       "Sq_Ft                                     4.017543e+02  4.017543e+02\n",
       "Days_On_Site                             -2.194160e+02  2.194160e+02\n",
       "HOA                                       1.355151e+02  1.355151e+02"
      ]
     },
     "execution_count": 569,
     "metadata": {},
     "output_type": "execute_result"
    }
   ],
   "source": [
    "from sklearn.metrics import mean_squared_error\n",
    "\n",
    "# Create your model\n",
    "model = sm.OLS(y_train, X_train)\n",
    "\n",
    "# Fit your model to your training set\n",
    "results = model.fit()\n",
    "# Print summary statistics of the model's performance\n",
    "pred = results.predict(X_test)\n",
    "print('RMSE:',np.power(mean_squared_error(y_test, pred),0.5))\n",
    "# results.summary()\n",
    "# print(results.params)\n",
    "coefs = pd.DataFrame(results.params)\n",
    "coefs.columns = ['coef']\n",
    "coefs['coef_abs'] = coefs['coef'].apply(lambda x: abs(x))\n",
    "coefs.sort_values(['coef_abs'],ascending=False,inplace=True)\n",
    "coefs\n",
    "# np.power(results.mse_total,0.5)\n",
    "\n",
    "# results.mse_model\n"
   ]
  },
  {
   "cell_type": "code",
   "execution_count": 566,
   "metadata": {},
   "outputs": [
    {
     "data": {
      "text/plain": [
       "<matplotlib.axes._subplots.AxesSubplot at 0x7f402e4f2780>"
      ]
     },
     "execution_count": 566,
     "metadata": {},
     "output_type": "execute_result"
    },
    {
     "data": {
      "image/png": "[encoded data removed]",
      "text/plain": [
       "<Figure size 1080x1080 with 2 Axes>"
      ]
     },
     "metadata": {},
     "output_type": "display_data"
    }
   ],
   "source": [
    "yX_n = yX[['Prices','SingleFamilyResidence','Sq_Ft','Years_Since_Built','Days_On_Site','HOA','Fireplace_b']]\n",
    "yX_n.columns = ['Prices','House - Y/N','Square Footage','Years Old','Days on Site','HOA Fee','Fireplace - Y/N']\n",
    "# yX_n.corr()\n",
    "plt.subplots(figsize=(15,15))\n",
    "sns.set(font_scale = 3)\n",
    "sns.heatmap(pd.DataFrame(yX_n.corr()['Prices']), cmap=\"seismic\", annot=True, vmin=-1, vmax=1)"
   ]
  },
  {
   "cell_type": "code",
   "execution_count": 485,
   "metadata": {},
   "outputs": [
    {
     "data": {
      "text/plain": [
       "<matplotlib.axes._subplots.AxesSubplot at 0x7f402e7fbb70>"
      ]
     },
     "execution_count": 485,
     "metadata": {},
     "output_type": "execute_result"
    },
    {
     "data": {
      "image/png": "[encoded data removed]",
      "text/plain": [
       "<Figure size 2160x1080 with 2 Axes>"
      ]
     },
     "metadata": {},
     "output_type": "display_data"
    }
   ],
   "source": [
    "yX_n = yX[['Prices','SingleFamilyResidence','Sq_Ft','Years_Since_Built','Days_On_Site','HOA','Fireplace_b']]\n",
    "yX_n.columns = ['Prices','House - Y/N','Square Footage','Years Old','Days on Site','HOA Fee','Fireplace - Y/N']\n",
    "# yX_n.corr()\n",
    "plt.subplots(figsize=(30,15))\n",
    "sns.set(font_scale = 2)\n",
    "sns.heatmap(yX_n.corr(), cmap=\"seismic\", annot=True, vmin=-1, vmax=1)\n",
    "\n",
    "# yX_d = yX.drop(['SingleFamilyResidence','Sq_Ft','Years_Since_Built','Days_On_Site','HOA','Fireplace_b'],axis=1)\n",
    "# corr_d = pd.DataFrame(yX_d.corr().Prices).drop('Prices',axis=0)\n",
    "# corr_d.columns = ['Correlations']\n",
    "# corr_d['Correlations'].mean()"
   ]
  },
  {
   "cell_type": "markdown",
   "metadata": {},
   "source": [
    "## Scrap"
   ]
  },
  {
   "cell_type": "code",
   "execution_count": 403,
   "metadata": {},
   "outputs": [],
   "source": [
    "# Read compiled data for regression analysis\n",
    "# yX = pd.read_pickle('data/yX_trans.pkl')\n",
    "# X_train = pd.read_pickle('data/X_train.pkl')\n",
    "# X_test = pd.read_pickle('data/X_test.pkl')\n",
    "# y_train = pd.read_pickle('data/y_train.pkl')\n",
    "# y_test = pd.read_pickle('data/y_test.pkl')\n",
    "# fts = pd.read_pickle('data/sign_columns.pkl')\n",
    "# X_trans = pd.read_pickle('data/X_trans.pkl')\n",
    "# y_trans = pd.read_pickle('data/y_trans.pkl')\n",
    "# yX = pd.read_pickle('data/yX_trans.pkl')"
   ]
  },
  {
   "cell_type": "code",
   "execution_count": 151,
   "metadata": {},
   "outputs": [
    {
     "name": "stdout",
     "output_type": "stream",
     "text": [
      "520357.00244982284\n",
      "693161.5679487851\n"
     ]
    }
   ],
   "source": [
    "from sklearn.metrics import mean_squared_error\n",
    "est = make_pipeline(PolynomialFeatures(degree=4), LinearRegression())\n",
    "est.fit(X_train, y_train)\n",
    "print(np.power(mean_squared_error(y_train, est.predict(X_train)),0.5))\n",
    "print(np.power(mean_squared_error(y_test, est.predict(X_test)),0.5))"
   ]
  },
  {
   "cell_type": "code",
   "execution_count": 164,
   "metadata": {},
   "outputs": [],
   "source": [
    "# Standardization\n",
    "sc=StandardScaler()\n",
    "X_train_std=sc.fit_transform(X_train)\n",
    "X_test_std=sc.transform(X_test)\n",
    "# print(X_train_std)\n",
    "# print(X_test_std)"
   ]
  },
  {
   "cell_type": "code",
   "execution_count": null,
   "metadata": {},
   "outputs": [],
   "source": [
    "# Linear Regression on standardized dataset\n",
    "# import time\n",
    "# est=LinearRegression()\n",
    "# est.fit(X_train_std,y_train)\n",
    "# poly = PolynomialFeatures(2)\n",
    "# poly.fit_transform(X)\n",
    "# print(est.score(X_train_std,y_train))"
   ]
  },
  {
   "cell_type": "code",
   "execution_count": null,
   "metadata": {},
   "outputs": [],
   "source": [
    "est = make_pipeline(PolynomialFeatures(degree), LinearRegression())\n",
    "est.fit(X_train, y_train)\n",
    "train_error[degree] = mean_squared_error(y_train, est.predict(X_train))\n",
    "test_error[degree] = mean_squared_error(y_test, est.predict(X_test))"
   ]
  },
  {
   "cell_type": "code",
   "execution_count": 150,
   "metadata": {},
   "outputs": [
    {
     "data": {
      "text/html": [
       "<table class=\"simpletable\">\n",
       "<caption>OLS Regression Results</caption>\n",
       "<tr>\n",
       "  <th>Dep. Variable:</th>         <td>Prices</td>      <th>  R-squared:         </th>  <td>   0.523</td>  \n",
       "</tr>\n",
       "<tr>\n",
       "  <th>Model:</th>                   <td>OLS</td>       <th>  Adj. R-squared:    </th>  <td>   0.523</td>  \n",
       "</tr>\n",
       "<tr>\n",
       "  <th>Method:</th>             <td>Least Squares</td>  <th>  F-statistic:       </th>  <td>1.571e+04</td> \n",
       "</tr>\n",
       "<tr>\n",
       "  <th>Date:</th>             <td>Fri, 12 Oct 2018</td> <th>  Prob (F-statistic):</th>   <td>  0.00</td>   \n",
       "</tr>\n",
       "<tr>\n",
       "  <th>Time:</th>                 <td>01:16:23</td>     <th>  Log-Likelihood:    </th> <td>-1.4754e+06</td>\n",
       "</tr>\n",
       "<tr>\n",
       "  <th>No. Observations:</th>      <td>100185</td>      <th>  AIC:               </th>  <td>2.951e+06</td> \n",
       "</tr>\n",
       "<tr>\n",
       "  <th>Df Residuals:</th>          <td>100177</td>      <th>  BIC:               </th>  <td>2.951e+06</td> \n",
       "</tr>\n",
       "<tr>\n",
       "  <th>Df Model:</th>              <td>     7</td>      <th>                     </th>      <td> </td>     \n",
       "</tr>\n",
       "<tr>\n",
       "  <th>Covariance Type:</th>      <td>nonrobust</td>    <th>                     </th>      <td> </td>     \n",
       "</tr>\n",
       "</table>\n",
       "<table class=\"simpletable\">\n",
       "<tr>\n",
       "            <td></td>               <th>coef</th>     <th>std err</th>      <th>t</th>      <th>P>|t|</th>  <th>[0.025</th>    <th>0.975]</th>  \n",
       "</tr>\n",
       "<tr>\n",
       "  <th>Intercept</th>             <td> 4.883e+04</td> <td> 9792.354</td> <td>    4.986</td> <td> 0.000</td> <td> 2.96e+04</td> <td>  6.8e+04</td>\n",
       "</tr>\n",
       "<tr>\n",
       "  <th>SingleFamilyResidence</th> <td>-1.462e+05</td> <td> 7592.726</td> <td>  -19.250</td> <td> 0.000</td> <td>-1.61e+05</td> <td>-1.31e+05</td>\n",
       "</tr>\n",
       "<tr>\n",
       "  <th>Sq_Ft</th>                 <td>  726.0438</td> <td>    2.516</td> <td>  288.604</td> <td> 0.000</td> <td>  721.113</td> <td>  730.975</td>\n",
       "</tr>\n",
       "<tr>\n",
       "  <th>Years_Since_Built</th>     <td> 5212.3308</td> <td>   87.100</td> <td>   59.843</td> <td> 0.000</td> <td> 5041.616</td> <td> 5383.045</td>\n",
       "</tr>\n",
       "<tr>\n",
       "  <th>Days_On_Site</th>          <td> -314.9678</td> <td>    5.945</td> <td>  -52.985</td> <td> 0.000</td> <td> -326.619</td> <td> -303.317</td>\n",
       "</tr>\n",
       "<tr>\n",
       "  <th>HOA</th>                   <td>  -31.8563</td> <td>   15.329</td> <td>   -2.078</td> <td> 0.038</td> <td>  -61.902</td> <td>   -1.811</td>\n",
       "</tr>\n",
       "<tr>\n",
       "  <th>Fireplace_b</th>           <td> 3.831e+04</td> <td> 5841.460</td> <td>    6.558</td> <td> 0.000</td> <td> 2.69e+04</td> <td> 4.98e+04</td>\n",
       "</tr>\n",
       "<tr>\n",
       "  <th>Pool_b</th>                <td>-2.814e+05</td> <td> 4089.641</td> <td>  -68.799</td> <td> 0.000</td> <td>-2.89e+05</td> <td>-2.73e+05</td>\n",
       "</tr>\n",
       "</table>\n",
       "<table class=\"simpletable\">\n",
       "<tr>\n",
       "  <th>Omnibus:</th>       <td>119322.408</td> <th>  Durbin-Watson:     </th>   <td>   1.836</td>  \n",
       "</tr>\n",
       "<tr>\n",
       "  <th>Prob(Omnibus):</th>   <td> 0.000</td>   <th>  Jarque-Bera (JB):  </th> <td>64119745.557</td>\n",
       "</tr>\n",
       "<tr>\n",
       "  <th>Skew:</th>            <td> 5.798</td>   <th>  Prob(JB):          </th>   <td>    0.00</td>  \n",
       "</tr>\n",
       "<tr>\n",
       "  <th>Kurtosis:</th>        <td>126.393</td>  <th>  Cond. No.          </th>   <td>1.11e+04</td>  \n",
       "</tr>\n",
       "</table><br/><br/>Warnings:<br/>[1] Standard Errors assume that the covariance matrix of the errors is correctly specified.<br/>[2] The condition number is large, 1.11e+04. This might indicate that there are<br/>strong multicollinearity or other numerical problems."
      ],
      "text/plain": [
       "<class 'statsmodels.iolib.summary.Summary'>\n",
       "\"\"\"\n",
       "                            OLS Regression Results                            \n",
       "==============================================================================\n",
       "Dep. Variable:                 Prices   R-squared:                       0.523\n",
       "Model:                            OLS   Adj. R-squared:                  0.523\n",
       "Method:                 Least Squares   F-statistic:                 1.571e+04\n",
       "Date:                Fri, 12 Oct 2018   Prob (F-statistic):               0.00\n",
       "Time:                        01:16:23   Log-Likelihood:            -1.4754e+06\n",
       "No. Observations:              100185   AIC:                         2.951e+06\n",
       "Df Residuals:                  100177   BIC:                         2.951e+06\n",
       "Df Model:                           7                                         \n",
       "Covariance Type:            nonrobust                                         \n",
       "=========================================================================================\n",
       "                            coef    std err          t      P>|t|      [0.025      0.975]\n",
       "-----------------------------------------------------------------------------------------\n",
       "Intercept              4.883e+04   9792.354      4.986      0.000    2.96e+04     6.8e+04\n",
       "SingleFamilyResidence -1.462e+05   7592.726    -19.250      0.000   -1.61e+05   -1.31e+05\n",
       "Sq_Ft                   726.0438      2.516    288.604      0.000     721.113     730.975\n",
       "Years_Since_Built      5212.3308     87.100     59.843      0.000    5041.616    5383.045\n",
       "Days_On_Site           -314.9678      5.945    -52.985      0.000    -326.619    -303.317\n",
       "HOA                     -31.8563     15.329     -2.078      0.038     -61.902      -1.811\n",
       "Fireplace_b            3.831e+04   5841.460      6.558      0.000    2.69e+04    4.98e+04\n",
       "Pool_b                -2.814e+05   4089.641    -68.799      0.000   -2.89e+05   -2.73e+05\n",
       "==============================================================================\n",
       "Omnibus:                   119322.408   Durbin-Watson:                   1.836\n",
       "Prob(Omnibus):                  0.000   Jarque-Bera (JB):         64119745.557\n",
       "Skew:                           5.798   Prob(JB):                         0.00\n",
       "Kurtosis:                     126.393   Cond. No.                     1.11e+04\n",
       "==============================================================================\n",
       "\n",
       "Warnings:\n",
       "[1] Standard Errors assume that the covariance matrix of the errors is correctly specified.\n",
       "[2] The condition number is large, 1.11e+04. This might indicate that there are\n",
       "strong multicollinearity or other numerical problems.\n",
       "\"\"\""
      ]
     },
     "execution_count": 150,
     "metadata": {},
     "output_type": "execute_result"
    }
   ],
   "source": [
    "# Define the model removing X2 +  X4 +  and X5\n",
    "lm2 = smf.ols('Prices ~ SingleFamilyResidence + Sq_Ft +  Years_Since_Built +  Days_On_Site +  HOA +  Fireplace_b +  Pool_b', data=yX)\n",
    "\n",
    "# Fit the model\n",
    "fit2 = lm2.fit()\n",
    "\n",
    "# Check out the results\n",
    "fit2.summary()"
   ]
  },
  {
   "cell_type": "code",
   "execution_count": null,
   "metadata": {},
   "outputs": [],
   "source": [
    "X_train.shape[1]"
   ]
  },
  {
   "cell_type": "code",
   "execution_count": null,
   "metadata": {},
   "outputs": [],
   "source": [
    "from sklearn.metrics import mean_squared_error\n",
    "\n",
    "# Step through degrees from 0 to  and store the training and test (generalization) error.\n",
    "train_error = np.empty(4)\n",
    "test_error = np.empty(4)\n",
    "for degree in range(4):\n",
    "    est = make_pipeline(PolynomialFeatures(degree), LinearRegression())\n",
    "    est.fit(X_train, y_train)\n",
    "    train_error[degree] = mean_squared_error(y_train, est.predict(X_train))\n",
    "    test_error[degree] = mean_squared_error(y_test, est.predict(X_test))\n",
    "# print(train_error)\n",
    "# print(test_error)\n",
    "\n",
    "# Plot the training and test errors against degree\n",
    "plt.figure(figsize=(8,6))\n",
    "plt.plot(np.arange(10), train_error, color='green', label='train')\n",
    "plt.plot(np.arange(10), test_error, color='red', label='test')\n",
    "plt.ylim((0.0, 1e0))\n",
    "plt.ylabel('log(mean squared error)')\n",
    "plt.xlabel('degree')\n",
    "plt.legend(loc='upper left')"
   ]
  },
  {
   "cell_type": "code",
   "execution_count": null,
   "metadata": {},
   "outputs": [],
   "source": [
    "# model = sm.OLS(y_trans, X_trans)\n",
    "pipe = make_pipeline(StandardScaler(),PolynomialFeatures(degree=2),ElasticNet(alpha=1,l1_ratio=.5))\n",
    "est = pipe.fit(y_trans, X_trans)\n",
    "# param_grid = {'polynomialfeatures__degree': [1, 2, 3],\n",
    "#               'elasticnet__alpha': [0.001, 0.01, 0.1, 1, 10, 100]}\n",
    "# grid = GridSearchCV(pipe, param_grid=param_grid, cv=5, n_jobs=-1)\n",
    "# grid.fit(X_train, y_train)\n",
    "\n",
    "# plt.matshow(grid.cv_results_['mean_test_score'].reshape(3, -1),vmin=0, cmap=\"viridis\")\n",
    "# plt.xlabel(\"elasticnet__alpha\")\n",
    "# plt.ylabel(\"polynomialfeatures__degree\")\n",
    "# plt.xticks(range(len(param_grid['elasticnet__alpha'])), param_grid['elasticnet__alpha'])\n",
    "# plt.yticks(range(len(param_grid['polynomialfeatures__degree'])),param_grid['polynomialfeatures__degree'])\n",
    "\n",
    "# plt.colorbar()"
   ]
  },
  {
   "cell_type": "code",
   "execution_count": 12,
   "metadata": {},
   "outputs": [
    {
     "data": {
      "text/html": [
       "<div>\n",
       "<style scoped>\n",
       "    .dataframe tbody tr th:only-of-type {\n",
       "        vertical-align: middle;\n",
       "    }\n",
       "\n",
       "    .dataframe tbody tr th {\n",
       "        vertical-align: top;\n",
       "    }\n",
       "\n",
       "    .dataframe thead th {\n",
       "        text-align: right;\n",
       "    }\n",
       "</style>\n",
       "<table border=\"1\" class=\"dataframe\">\n",
       "  <thead>\n",
       "    <tr style=\"text-align: right;\">\n",
       "      <th></th>\n",
       "      <th>SingleFamilyResidence</th>\n",
       "      <th>Sq_Ft</th>\n",
       "      <th>Years_Since_Built</th>\n",
       "      <th>Days_On_Site</th>\n",
       "      <th>HOA</th>\n",
       "      <th>Fireplace_b</th>\n",
       "      <th>Pool_b</th>\n",
       "    </tr>\n",
       "  </thead>\n",
       "  <tbody>\n",
       "    <tr>\n",
       "      <th>7149</th>\n",
       "      <td>1</td>\n",
       "      <td>1519.0</td>\n",
       "      <td>46.0</td>\n",
       "      <td>189.0</td>\n",
       "      <td>0.0</td>\n",
       "      <td>1</td>\n",
       "      <td>1</td>\n",
       "    </tr>\n",
       "    <tr>\n",
       "      <th>15800</th>\n",
       "      <td>1</td>\n",
       "      <td>1134.0</td>\n",
       "      <td>69.0</td>\n",
       "      <td>428.0</td>\n",
       "      <td>0.0</td>\n",
       "      <td>1</td>\n",
       "      <td>0</td>\n",
       "    </tr>\n",
       "    <tr>\n",
       "      <th>37302</th>\n",
       "      <td>0</td>\n",
       "      <td>645.0</td>\n",
       "      <td>28.0</td>\n",
       "      <td>987.0</td>\n",
       "      <td>229.0</td>\n",
       "      <td>1</td>\n",
       "      <td>1</td>\n",
       "    </tr>\n",
       "    <tr>\n",
       "      <th>92182</th>\n",
       "      <td>1</td>\n",
       "      <td>920.0</td>\n",
       "      <td>67.0</td>\n",
       "      <td>565.0</td>\n",
       "      <td>0.0</td>\n",
       "      <td>0</td>\n",
       "      <td>0</td>\n",
       "    </tr>\n",
       "    <tr>\n",
       "      <th>71116</th>\n",
       "      <td>1</td>\n",
       "      <td>1685.0</td>\n",
       "      <td>99.0</td>\n",
       "      <td>797.0</td>\n",
       "      <td>0.0</td>\n",
       "      <td>1</td>\n",
       "      <td>1</td>\n",
       "    </tr>\n",
       "  </tbody>\n",
       "</table>\n",
       "</div>"
      ],
      "text/plain": [
       "       SingleFamilyResidence   Sq_Ft  Years_Since_Built  Days_On_Site    HOA  \\\n",
       "7149                       1  1519.0               46.0         189.0    0.0   \n",
       "15800                      1  1134.0               69.0         428.0    0.0   \n",
       "37302                      0   645.0               28.0         987.0  229.0   \n",
       "92182                      1   920.0               67.0         565.0    0.0   \n",
       "71116                      1  1685.0               99.0         797.0    0.0   \n",
       "\n",
       "       Fireplace_b  Pool_b  \n",
       "7149             1       1  \n",
       "15800            1       0  \n",
       "37302            1       1  \n",
       "92182            0       0  \n",
       "71116            1       1  "
      ]
     },
     "execution_count": 12,
     "metadata": {},
     "output_type": "execute_result"
    }
   ],
   "source": [
    "X_train.head()"
   ]
  },
  {
   "cell_type": "code",
   "execution_count": 11,
   "metadata": {},
   "outputs": [
    {
     "data": {
      "text/plain": [
       "7149     1000000.0\n",
       "15800    1090000.0\n",
       "37302     412000.0\n",
       "92182     740000.0\n",
       "71116     659000.0\n",
       "Name: Prices, dtype: float64"
      ]
     },
     "execution_count": 11,
     "metadata": {},
     "output_type": "execute_result"
    }
   ],
   "source": [
    "y_train.head()"
   ]
  },
  {
   "cell_type": "code",
   "execution_count": 14,
   "metadata": {},
   "outputs": [],
   "source": [
    "pred = fit.predict(X_test)"
   ]
  },
  {
   "cell_type": "code",
   "execution_count": 30,
   "metadata": {},
   "outputs": [
    {
     "data": {
      "text/plain": [
       "<matplotlib.collections.PathCollection at 0x7f404442ea90>"
      ]
     },
     "execution_count": 30,
     "metadata": {},
     "output_type": "execute_result"
    },
    {
     "data": {
      "image/png": "[encoded data removed]",
      "text/plain": [
       "<Figure size 432x288 with 1 Axes>"
      ]
     },
     "metadata": {},
     "output_type": "display_data"
    }
   ],
   "source": [
    "xplot = X_train['Sq_Ft']\n",
    "plt.scatter(xplot,y_train)"
   ]
  },
  {
   "cell_type": "code",
   "execution_count": 15,
   "metadata": {},
   "outputs": [],
   "source": [
    "res = y_test-pred"
   ]
  },
  {
   "cell_type": "code",
   "execution_count": 17,
   "metadata": {},
   "outputs": [],
   "source": [
    "from scipy.stats import normaltest"
   ]
  },
  {
   "cell_type": "code",
   "execution_count": 21,
   "metadata": {},
   "outputs": [],
   "source": [
    "test = np.log(y_train)"
   ]
  },
  {
   "cell_type": "code",
   "execution_count": 20,
   "metadata": {},
   "outputs": [
    {
     "data": {
      "text/plain": [
       "NormaltestResult(statistic=nan, pvalue=nan)"
      ]
     },
     "execution_count": 20,
     "metadata": {},
     "output_type": "execute_result"
    }
   ],
   "source": [
    "normaltest(np.log(y_test-pred))"
   ]
  },
  {
   "cell_type": "code",
   "execution_count": 16,
   "metadata": {},
   "outputs": [
    {
     "data": {
      "text/plain": [
       "(array([1.0000e+00, 3.3200e+02, 2.9405e+04, 2.6800e+02, 3.6000e+01,\n",
       "        9.0000e+00, 1.0000e+00, 1.0000e+00, 1.0000e+00, 2.0000e+00]),\n",
       " array([-7004211.66461121, -4054076.57285902, -1103941.48110683,\n",
       "         1846193.61064535,  4796328.70239754,  7746463.79414973,\n",
       "        10696598.88590192, 13646733.9776541 , 16596869.06940629,\n",
       "        19547004.16115848, 22497139.25291067]),\n",
       " <a list of 10 Patch objects>)"
      ]
     },
     "execution_count": 16,
     "metadata": {},
     "output_type": "execute_result"
    },
    {
     "data": {
      "image/png": "[encoded data removed]",
      "text/plain": [
       "<Figure size 432x288 with 1 Axes>"
      ]
     },
     "metadata": {},
     "output_type": "display_data"
    }
   ],
   "source": [
    "plt.hist(res)"
   ]
  },
  {
   "cell_type": "code",
   "execution_count": null,
   "metadata": {},
   "outputs": [],
   "source": [
    "# Create your model\n",
    "model = sm.OLS(y_trans, X_trans)\n",
    "\n",
    "# Fit your model to your training set\n",
    "fit = model.fit()\n",
    "\n",
    "# Print summary statistics of the model's performance\n",
    "fit.summary()"
   ]
  },
  {
   "cell_type": "code",
   "execution_count": null,
   "metadata": {},
   "outputs": [],
   "source": [
    "kf = KFold(n=len(X_trans), n_folds=5, shuffle=True)\n",
    "\n",
    "all_scores=[]\n",
    "alphas=[0, 1e-4, 1e-3, 1e-2, 1e-1, 1, 10, 100]\n",
    "# alphas = np.linspace(1e-5,0,120)\n",
    "\n",
    "for train, test in kf:\n",
    "    x_train=X_trans.iloc[train]\n",
    "    y_train=y_trans.iloc[train]\n",
    "    x_test=X_trans.iloc[test]\n",
    "    y_test=y_trans.iloc[test]\n",
    "    mse_score=[]\n",
    "    al = []\n",
    "    for a in alphas:\n",
    "        est=Lasso(alpha=a)\n",
    "        est.fit(x_train,y_train)\n",
    "        mse=np.mean((y_test-est.predict(x_test))**2)\n",
    "        mse_score.append(mse)\n",
    "        al.append(a)\n",
    "    all_scores.append(mse_score)\n",
    "\n",
    "for e in all_scores :\n",
    "    print(e)\n",
    "\n",
    "# for list in all_scores:\n",
    "#     plt.scatter(al, mse_score)\n",
    "#     plt.xlim(alphas[0], alphas[-1])\n",
    "#     #plt.ylim(min(all_scores), max(all_scores))\n",
    "# plt.show()\n",
    "\n",
    "# alpha = 1e-2\n",
    "\n",
    "# X_train, X_test, y_train, y_test = train_test_split(data.iloc[:,:-1], data.iloc[:,-1], test_size=0.3)\n",
    "\n",
    "# est=Lasso(alpha=a)\n",
    "# est.fit(X_train,y_train)\n",
    "# zipped = zip(X_trans.columns, est.coef_)\n",
    "# features = sorted(zipped, key=lambda t:t[1], reverse=True)\n",
    "# [x for x in features if abs(x[1]) > 0.1]"
   ]
  },
  {
   "cell_type": "code",
   "execution_count": null,
   "metadata": {},
   "outputs": [],
   "source": [
    "# lr=LinearRegression()\n",
    "\n",
    "# lr.fit(X_train, y_train)\n",
    "# lr.score(X_test, y_test)\n",
    "\n",
    "alphspace = np.linspace(-100,5000,100)\n",
    "#rcv = RidgeCV(cv=10,alphas=alphspace, store_cv_values=True)\n",
    "\n",
    "for a in alphspace:\n",
    "    #if you change the store_cv_values to True, and cv=None, it shows\n",
    "    #cv_values_ (its own cross validation values???!?!?!), which \n",
    "    #may be the issue...brain melting...\n",
    "    rcv = RidgeCV(cv=4,alphas=[a], store_cv_values=False)\n",
    "    rcv.fit(X_train, y_train)\n",
    "    sc = rcv.score(X_test, y_test)\n",
    "    #cv = rcv.cv_values_\n",
    "    print(f'{a} => {sc}')\n",
    "\n",
    "rcv = RidgeCV(cv=10,alphas=alphspace)\n",
    "rcv.fit(X_train, y_train)\n",
    "sc = rcv.score(X_test, y_test) \n",
    "print(f'chosen alpha {rcv.alpha_}')\n",
    "\n"
   ]
  },
  {
   "cell_type": "code",
   "execution_count": null,
   "metadata": {},
   "outputs": [],
   "source": [
    "# data = StandardScaler(X_train)\n",
    "# fit(data)\n",
    "# yX = pd.read_pickle('data/X_dst.pkl')\n",
    "\n",
    "scaler = StandardScaler()\n",
    "scaler.fit(X_trans)\n",
    "X_std = scaler.transform(X_trans)\n",
    "X_std\n",
    "# sclr = StandardScaler()\n",
    "# print(sclr.fit(yX))\n",
    "# StandardScaler(copy=True, with_mean=True, with_std=True)\n",
    "# print(scaler.mean_)\n",
    "# print(scaler.transform(data))\n",
    "# print(scaler.transform([[2, 2]]))\n",
    "\n",
    "\n",
    "# lr1 = LinearRegression()\n",
    "# lr1.fit(X_trans, y_train)\n",
    "# lr1.score(X_trans, y_train)\n"
   ]
  }
 ],
 "metadata": {
  "kernelspec": {
   "display_name": "Python 3",
   "language": "python",
   "name": "python3"
  },
  "language_info": {
   "codemirror_mode": {
    "name": "ipython",
    "version": 3
   },
   "file_extension": ".py",
   "mimetype": "text/x-python",
   "name": "python",
   "nbconvert_exporter": "python",
   "pygments_lexer": "ipython3",
   "version": "3.6.5"
  }
 },
 "nbformat": 4,
 "nbformat_minor": 2
}
