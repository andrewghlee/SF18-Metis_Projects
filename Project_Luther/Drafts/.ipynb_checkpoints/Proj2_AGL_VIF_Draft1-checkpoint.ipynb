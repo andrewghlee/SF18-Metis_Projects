{
 "cells": [
  {
   "cell_type": "code",
   "execution_count": 32,
   "metadata": {},
   "outputs": [],
   "source": [
    "# Python 2 & 3 Compatibility\n",
    "from __future__ import print_function, division\n",
    "\n",
    "# Necessary imports\n",
    "import pandas as pd\n",
    "import numpy as np\n",
    "import pickle \n",
    "import patsy\n",
    "import seaborn as sns\n",
    "#from seaborn import plt (alternate)\n",
    "import matplotlib.pyplot as plt\n",
    "import statsmodels.api as sm\n",
    "import statsmodels.formula.api as smf\n",
    "from sklearn.linear_model import LinearRegression\n",
    "from sklearn import metrics\n",
    "from sklearn.model_selection import train_test_split\n",
    "from sklearn.linear_model import RidgeCV\n",
    "from sklearn.pipeline import make_pipeline\n",
    "from sklearn.preprocessing import PolynomialFeatures\n",
    "from sklearn.cross_validation import KFold\n",
    "from sklearn.preprocessing import MultiLabelBinarizer\n",
    "from sklearn.feature_selection import f_regression\n",
    "from sklearn.cross_validation import cross_val_score\n",
    "from patsy import dmatrices\n",
    "import statsmodels.api as sm\n",
    "from statsmodels.stats.outliers_influence import variance_inflation_factor\n",
    "\n",
    "\n",
    "%matplotlib inline\n",
    "\n",
    "import warnings\n",
    "warnings.filterwarnings('ignore')"
   ]
  },
  {
   "cell_type": "code",
   "execution_count": 33,
   "metadata": {},
   "outputs": [],
   "source": [
    "# Read compiled data for regression analysis\n",
    "X_train = pd.read_pickle('data/X_train.pkl')\n",
    "X_test = pd.read_pickle('data/X_test.pkl')\n",
    "y_train = pd.read_pickle('data/y_train.pkl')\n",
    "y_test = pd.read_pickle('data/y_test.pkl')\n",
    "fts = pd.read_pickle('data/sign_columns.pkl')\n",
    "X_trans = pd.read_pickle('data/X_trans.pkl')"
   ]
  },
  {
   "cell_type": "code",
   "execution_count": 43,
   "metadata": {},
   "outputs": [
    {
     "ename": "SyntaxError",
     "evalue": "invalid syntax (<unknown>, line 1)",
     "output_type": "error",
     "traceback": [
      "Traceback \u001b[0;36m(most recent call last)\u001b[0m:\n",
      "  File \u001b[1;32m\"/home/aglee/anaconda3/lib/python3.6/site-packages/IPython/core/interactiveshell.py\"\u001b[0m, line \u001b[1;32m2963\u001b[0m, in \u001b[1;35mrun_code\u001b[0m\n    exec(code_obj, self.user_global_ns, self.user_ns)\n",
      "  File \u001b[1;32m\"<ipython-input-43-07f51f3cc924>\"\u001b[0m, line \u001b[1;32m9\u001b[0m, in \u001b[1;35m<module>\u001b[0m\n    y, X = dmatrices('Prices ~ Sq_Ft + Years_Since_Built + Days_On_Site + HOA + Fireplace_b + Pool_b + Condominium + SingleFamilyResidence + Townhouse + 0_Cars + 12_Cars + 16_Cars + 1_Cars + 246_Cars + 2_Cars + 35_Cars + 3_Cars + 4_Cars + 5_Cars + 6_Cars + 7_Cars + 8_Cars + 9_Cars + 12_Full_Baths + 1_Full_Baths + 2_Full_Baths + 3_Full_Baths + 4_Full_Baths + 5_Full_Baths + 6_Full_Baths + 7_Full_Baths + 8_Full_Baths + 9_Full_Baths + 0_Part_Baths + 1_Part_Baths + 2_Part_Baths + 3_Part_Baths + 4_Part_Baths + District_AlamedaCityUnified + District_AlamedaUnified + District_AlbanyCityUnified + District_AlumRockUnionElementary + District_BayshoreElementary + District_Belmont_RedwoodShoresElementary + District_BerryessaUnionElementary + District_BrisbaneElementary + District_BurlingameElementary + District_CampbellUnionElementary + District_CastroValleyUnified + District_CupertinoUnion + District_DublinUnified + District_EastSideUnionHigh + District_EmeryUnified + District_EvergreenElementary + District_Franklin_McKinleyElementary + District_FremontUnified + District_GilroyUnified + District_HaywardUnified + District_HillsboroughCityElementary + District_JeffersonElementarySanMateo + District_LasLomitasElementary + District_LivermoreValleyJointUnified + District_LosAltosElementary + District_LosGatosUnionElementary + District_LutherBurbank + District_MenloParkCityElementary + District_MillbraeElementary + District_MilpitasUnified + District_MorelandElementary + District_MorganHillUnified + District_MountainViewWhisman + District_Mt.PleasantElementary + District_NewHavenUnified + District_NewarkUnified + District_OakGroveElementary + District_OaklandUnified + District_OrchardElementary + District_Pacifica + District_PaloAltoUnified + District_PiedmontCityUnified + District_PleasantonUnified + District_PortolaValleyElementary + District_RavenswoodCityElementary + District_RedwoodCityElementary + District_SanBrunoParkElementary + District_SanCarlosElementary + District_SanFranciscoUnified + District_SanJoseUnified + District_SanLeandroUnified + District_SanLorenzoUnified + District_SanMateo_FosterCityElementary + District_SaratogaUnionElementary + District_SouthSanFranciscoUnified + District_Sunnyvale + District_SunolGlenElementary + District_UnionElementary + District_WoodsideElementary', yX, return_type='dataframe')\n",
      "  File \u001b[1;32m\"/home/aglee/anaconda3/lib/python3.6/site-packages/patsy/highlevel.py\"\u001b[0m, line \u001b[1;32m310\u001b[0m, in \u001b[1;35mdmatrices\u001b[0m\n    NA_action, return_type)\n",
      "  File \u001b[1;32m\"/home/aglee/anaconda3/lib/python3.6/site-packages/patsy/highlevel.py\"\u001b[0m, line \u001b[1;32m165\u001b[0m, in \u001b[1;35m_do_highlevel_design\u001b[0m\n    NA_action)\n",
      "  File \u001b[1;32m\"/home/aglee/anaconda3/lib/python3.6/site-packages/patsy/highlevel.py\"\u001b[0m, line \u001b[1;32m70\u001b[0m, in \u001b[1;35m_try_incr_builders\u001b[0m\n    NA_action)\n",
      "  File \u001b[1;32m\"/home/aglee/anaconda3/lib/python3.6/site-packages/patsy/build.py\"\u001b[0m, line \u001b[1;32m689\u001b[0m, in \u001b[1;35mdesign_matrix_builders\u001b[0m\n    factor_states = _factors_memorize(all_factors, data_iter_maker, eval_env)\n",
      "  File \u001b[1;32m\"/home/aglee/anaconda3/lib/python3.6/site-packages/patsy/build.py\"\u001b[0m, line \u001b[1;32m354\u001b[0m, in \u001b[1;35m_factors_memorize\u001b[0m\n    which_pass = factor.memorize_passes_needed(state, eval_env)\n",
      "  File \u001b[1;32m\"/home/aglee/anaconda3/lib/python3.6/site-packages/patsy/eval.py\"\u001b[0m, line \u001b[1;32m474\u001b[0m, in \u001b[1;35mmemorize_passes_needed\u001b[0m\n    subset_names = [name for name in ast_names(self.code)\n",
      "  File \u001b[1;32m\"/home/aglee/anaconda3/lib/python3.6/site-packages/patsy/eval.py\"\u001b[0m, line \u001b[1;32m474\u001b[0m, in \u001b[1;35m<listcomp>\u001b[0m\n    subset_names = [name for name in ast_names(self.code)\n",
      "  File \u001b[1;32m\"/home/aglee/anaconda3/lib/python3.6/site-packages/patsy/eval.py\"\u001b[0m, line \u001b[1;32m105\u001b[0m, in \u001b[1;35mast_names\u001b[0m\n    for node in ast.walk(ast.parse(code)):\n",
      "\u001b[0;36m  File \u001b[0;32m\"/home/aglee/anaconda3/lib/python3.6/ast.py\"\u001b[0;36m, line \u001b[0;32m35\u001b[0;36m, in \u001b[0;35mparse\u001b[0;36m\u001b[0m\n\u001b[0;31m    return compile(source, filename, mode, PyCF_ONLY_AST)\u001b[0m\n",
      "\u001b[0;36m  File \u001b[0;32m\"<unknown>\"\u001b[0;36m, line \u001b[0;32m1\u001b[0m\n\u001b[0;31m    7 _Full_Baths\u001b[0m\n\u001b[0m                ^\u001b[0m\n\u001b[0;31mSyntaxError\u001b[0m\u001b[0;31m:\u001b[0m invalid syntax\n"
     ]
    }
   ],
   "source": [
    "yX = pd.concat([X_trans,y_train])\n",
    "# yX = pd.read_pickle('data/X_dst.pkl')\n",
    "# X = yX.drop('Prices',axis=1)\n",
    "# y = yX['Prices']\n",
    "\n",
    "# Gather features\n",
    "# features = ' + '.join(X_trans.columns)\n",
    "# features\n",
    "y, X = dmatrices('Prices ~ Sq_Ft + Years_Since_Built + Days_On_Site + HOA + Fireplace_b + Pool_b + Condominium + SingleFamilyResidence + Townhouse + 0_Cars + 12_Cars + 16_Cars + 1_Cars + 246_Cars + 2_Cars + 35_Cars + 3_Cars + 4_Cars + 5_Cars + 6_Cars + 7_Cars + 8_Cars + 9_Cars + 12_Full_Baths + 1_Full_Baths + 2_Full_Baths + 3_Full_Baths + 4_Full_Baths + 5_Full_Baths + 6_Full_Baths + 7_Full_Baths + 8_Full_Baths + 9_Full_Baths + 0_Part_Baths + 1_Part_Baths + 2_Part_Baths + 3_Part_Baths + 4_Part_Baths + District_AlamedaCityUnified + District_AlamedaUnified + District_AlbanyCityUnified + District_AlumRockUnionElementary + District_BayshoreElementary + District_Belmont_RedwoodShoresElementary + District_BerryessaUnionElementary + District_BrisbaneElementary + District_BurlingameElementary + District_CampbellUnionElementary + District_CastroValleyUnified + District_CupertinoUnion + District_DublinUnified + District_EastSideUnionHigh + District_EmeryUnified + District_EvergreenElementary + District_Franklin_McKinleyElementary + District_FremontUnified + District_GilroyUnified + District_HaywardUnified + District_HillsboroughCityElementary + District_JeffersonElementarySanMateo + District_LasLomitasElementary + District_LivermoreValleyJointUnified + District_LosAltosElementary + District_LosGatosUnionElementary + District_LutherBurbank + District_MenloParkCityElementary + District_MillbraeElementary + District_MilpitasUnified + District_MorelandElementary + District_MorganHillUnified + District_MountainViewWhisman + District_Mt.PleasantElementary + District_NewHavenUnified + District_NewarkUnified + District_OakGroveElementary + District_OaklandUnified + District_OrchardElementary + District_Pacifica + District_PaloAltoUnified + District_PiedmontCityUnified + District_PleasantonUnified + District_PortolaValleyElementary + District_RavenswoodCityElementary + District_RedwoodCityElementary + District_SanBrunoParkElementary + District_SanCarlosElementary + District_SanFranciscoUnified + District_SanJoseUnified + District_SanLeandroUnified + District_SanLorenzoUnified + District_SanMateo_FosterCityElementary + District_SaratogaUnionElementary + District_SouthSanFranciscoUnified + District_Sunnyvale + District_SunolGlenElementary + District_UnionElementary + District_WoodsideElementary', yX, return_type='dataframe')"
   ]
  }
 ],
 "metadata": {
  "kernelspec": {
   "display_name": "Python 3",
   "language": "python",
   "name": "python3"
  },
  "language_info": {
   "codemirror_mode": {
    "name": "ipython",
    "version": 3
   },
   "file_extension": ".py",
   "mimetype": "text/x-python",
   "name": "python",
   "nbconvert_exporter": "python",
   "pygments_lexer": "ipython3",
   "version": "3.6.5"
  }
 },
 "nbformat": 4,
 "nbformat_minor": 2
}
